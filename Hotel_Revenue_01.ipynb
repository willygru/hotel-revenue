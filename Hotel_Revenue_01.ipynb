{
  "nbformat": 4,
  "nbformat_minor": 0,
  "metadata": {
    "colab": {
      "provenance": [],
      "mount_file_id": "12p1pSuEOykzBQyEkbqUdkmWd-I6PcIgr",
      "authorship_tag": "ABX9TyOiO+iLrEx6EkSueOScI1TO",
      "include_colab_link": true
    },
    "kernelspec": {
      "name": "python3",
      "display_name": "Python 3"
    },
    "language_info": {
      "name": "python"
    },
    "widgets": {
      "application/vnd.jupyter.widget-state+json": {
        "e7d5cf21ebaf45c59f96a63d9438f24b": {
          "model_module": "powerbi-jupyter-client",
          "model_name": "ReportModel",
          "model_module_version": "3.0.0",
          "state": {
            "_client_error": "",
            "_dom_classes": [],
            "_embed_config": {
              "type": "report",
              "accessToken": "eyJ0eXAiOiJKV1QiLCJhbGciOiJSUzI1NiIsIng1dCI6Ii1LSTNROW5OUjdiUm9meG1lWm9YcWJIWkdldyIsImtpZCI6Ii1LSTNROW5OUjdiUm9meG1lWm9YcWJIWkdldyJ9.eyJhdWQiOiJodHRwczovL2FuYWx5c2lzLndpbmRvd3MubmV0L3Bvd2VyYmkvYXBpIiwiaXNzIjoiaHR0cHM6Ly9zdHMud2luZG93cy5uZXQvZTA0ZmM5MGQtZTFkYi00YmRmLWIxYjQtYTEzNzM5Mjg5YWZkLyIsImlhdCI6MTY4Mzg5MTgzNywibmJmIjoxNjgzODkxODM3LCJleHAiOjE2ODM4OTY5MjksImFjY3QiOjAsImFjciI6IjEiLCJhaW8iOiJBVlFBcS84VEFBQUFhS1hBUmVpdy9DWXlMcjJKdzF6K3A0dzFWSjhtTjg1QXNyMFlxdGNqcW9rNnovRVNmRFozaFJrTCtpQ2Y4ZG9qcFl2RFg5Myt1dXlnMHBpTjgrZHk2VEEvTnBkVzA3OXBiWHhpQXo4TkhHTT0iLCJhbXIiOlsicHdkIiwibWZhIl0sImFwcGlkIjoiMWFlYTNmOTctZWRjNi00NDUzLWE1OWItYjg4YjBiODAzNzExIiwiYXBwaWRhY3IiOiIwIiwiZmFtaWx5X25hbWUiOiJHcnVpbnRhbCBHYW1ib2EiLCJnaXZlbl9uYW1lIjoiV2lsbGlhbSBBbnRvbmlvIiwiaXBhZGRyIjoiMzQuMTI1LjMyLjIxNiIsIm5hbWUiOiJXaWxsaWFtIEFudG9uaW8gR3J1aW50YWwgR2FtYm9hIiwib2lkIjoiZGM5ZGJhNmQtZjI2My00NmY0LTljN2UtZTUwMjVjY2U5OTc1Iiwib25wcmVtX3NpZCI6IlMtMS01LTIxLTQyMDk0ODYxNTItNjY4OTkwOTctODI1ODU2MDMyLTY3NjIiLCJwdWlkIjoiMTAwMzNGRkZBOEUyRDkyQyIsInJoIjoiMC5BUmdBRGNsUDROdmgzMHV4dEtFM09TaWFfUWtBQUFBQUFBQUF3QUFBQUFBQUFBQVlBQ2MuIiwic2NwIjoiQ29udGVudC5DcmVhdGUgRGF0YXNldC5SZWFkV3JpdGUuQWxsIFJlcG9ydC5SZWFkV3JpdGUuQWxsIFdvcmtzcGFjZS5SZWFkLkFsbCIsInN1YiI6IjRRbTRxWWM4aE9NZWZBM3lHRWRMN21xWnBPemVaT3VoaV93dXg4SG9ZQ1EiLCJ0aWQiOiJlMDRmYzkwZC1lMWRiLTRiZGYtYjFiNC1hMTM3MzkyODlhZmQiLCJ1bmlxdWVfbmFtZSI6IndpbGxpYW0uZ3J1aW50YWxAYmx1ZW9jZWFudGVjaC5jb20ubXgiLCJ1cG4iOiJ3aWxsaWFtLmdydWludGFsQGJsdWVvY2VhbnRlY2guY29tLm14IiwidXRpIjoiS0VoNzhOSWlsVW1oVVJqUmRid1pBQSIsInZlciI6IjEuMCIsIndpZHMiOlsiYjc5ZmJmNGQtM2VmOS00Njg5LTgxNDMtNzZiMTk0ZTg1NTA5Il19.OKsnKLp8ncN2jTWq7ut1XsLYFlD3jg4M6rfboqwhpFf6dINlOt_-0WzPBCrCVAcA3Xm1DnO8HPhiLANS_k4i9C6G5VWAO6YXjl_7ZhRzvkG47V3TlIm8wO9KOETf3ISdJx8ezVIvMXLT_lMFmVeK5ZS9rw1E9eq2mJP7mKpOQWZAPERQOaeeASv6NCkiE189RI2dbiaBzhQCLkmrWiWrYSXeZsoLJPJcwsqo2WX90kQW84geLptm9p7uUH-r9ZpiQHtTySF1wi7ZAKvEAZXajF8ckCFMuLFpXUvXHHdEfdQBi-QneSNFY3cklmKn3d358o9f1epEaxhKfB0nnMQYgg",
              "embedUrl": "https://app.powerbi.com/reportEmbed?reportId=411adcb7-8732-441e-99c1-f4166493bdb3&groupId=4e958948-0c2b-4f25-b65c-b3571a8f37d4&w=2&config=eyJjbHVzdGVyVXJsIjoiaHR0cHM6Ly9XQUJJLVNPVVRILUNFTlRSQUwtVVMtcmVkaXJlY3QuYW5hbHlzaXMud2luZG93cy5uZXQiLCJlbWJlZEZlYXR1cmVzIjp7Im1vZGVybkVtYmVkIjp0cnVlLCJ1c2FnZU1ldHJpY3NWTmV4dCI6dHJ1ZX19",
              "tokenType": 0,
              "viewMode": 0,
              "permissions": null,
              "datasetId": null
            },
            "_embedded": true,
            "_event_data": {
              "event_name": "rendered",
              "event_details": null
            },
            "_export_visual_data_request": {
              "pageName": null,
              "visualName": null,
              "rows": null,
              "exportDataType": null
            },
            "_get_bookmarks_request": false,
            "_get_filters_request": false,
            "_get_pages_request": false,
            "_get_visuals_page_name": "",
            "_init_error": "",
            "_model_module": "powerbi-jupyter-client",
            "_model_module_version": "3.0.0",
            "_model_name": "ReportModel",
            "_page_visuals": [],
            "_report_bookmark_name": "",
            "_report_bookmarks": [],
            "_report_filters": [],
            "_report_filters_request": {
              "filters": [],
              "request_completed": true
            },
            "_report_pages": [],
            "_token_expired": false,
            "_view_count": null,
            "_view_module": "powerbi-jupyter-client",
            "_view_module_version": "3.0.0",
            "_view_name": "ReportView",
            "_visual_data": "",
            "container_height": 750,
            "container_width": 1024,
            "layout": "IPY_MODEL_8ab257ec7bd54b0d82e41591ad6d43a9"
          }
        },
        "8ab257ec7bd54b0d82e41591ad6d43a9": {
          "model_module": "@jupyter-widgets/base",
          "model_name": "LayoutModel",
          "model_module_version": "1.2.0",
          "state": {
            "_model_module": "@jupyter-widgets/base",
            "_model_module_version": "1.2.0",
            "_model_name": "LayoutModel",
            "_view_count": null,
            "_view_module": "@jupyter-widgets/base",
            "_view_module_version": "1.2.0",
            "_view_name": "LayoutView",
            "align_content": null,
            "align_items": null,
            "align_self": null,
            "border": null,
            "bottom": null,
            "display": null,
            "flex": null,
            "flex_flow": null,
            "grid_area": null,
            "grid_auto_columns": null,
            "grid_auto_flow": null,
            "grid_auto_rows": null,
            "grid_column": null,
            "grid_gap": null,
            "grid_row": null,
            "grid_template_areas": null,
            "grid_template_columns": null,
            "grid_template_rows": null,
            "height": null,
            "justify_content": null,
            "justify_items": null,
            "left": null,
            "margin": null,
            "max_height": null,
            "max_width": null,
            "min_height": null,
            "min_width": null,
            "object_fit": null,
            "object_position": null,
            "order": null,
            "overflow": null,
            "overflow_x": null,
            "overflow_y": null,
            "padding": null,
            "right": null,
            "top": null,
            "visibility": null,
            "width": null
          }
        }
      }
    }
  },
  "cells": [
    {
      "cell_type": "markdown",
      "metadata": {
        "id": "view-in-github",
        "colab_type": "text"
      },
      "source": [
        "<a href=\"https://colab.research.google.com/github/willygru/hotel-revenue/blob/main/Hotel_Revenue_01.ipynb\" target=\"_parent\"><img src=\"https://colab.research.google.com/assets/colab-badge.svg\" alt=\"Open In Colab\"/></a>"
      ]
    },
    {
      "cell_type": "code",
      "source": [
        "# !pip install openpyxl\n",
        "!pip install pandasql"
      ],
      "metadata": {
        "colab": {
          "base_uri": "https://localhost:8080/"
        },
        "id": "BRNWmWA2l0yH",
        "outputId": "71303048-774e-4c75-a9cb-5c7edf74fdd5"
      },
      "execution_count": 1,
      "outputs": [
        {
          "output_type": "stream",
          "name": "stdout",
          "text": [
            "Looking in indexes: https://pypi.org/simple, https://us-python.pkg.dev/colab-wheels/public/simple/\n",
            "Requirement already satisfied: pandasql in /usr/local/lib/python3.10/dist-packages (0.7.3)\n",
            "Requirement already satisfied: numpy in /usr/local/lib/python3.10/dist-packages (from pandasql) (1.22.4)\n",
            "Requirement already satisfied: pandas in /usr/local/lib/python3.10/dist-packages (from pandasql) (1.5.3)\n",
            "Requirement already satisfied: sqlalchemy in /usr/local/lib/python3.10/dist-packages (from pandasql) (2.0.10)\n",
            "Requirement already satisfied: python-dateutil>=2.8.1 in /usr/local/lib/python3.10/dist-packages (from pandas->pandasql) (2.8.2)\n",
            "Requirement already satisfied: pytz>=2020.1 in /usr/local/lib/python3.10/dist-packages (from pandas->pandasql) (2022.7.1)\n",
            "Requirement already satisfied: typing-extensions>=4.2.0 in /usr/local/lib/python3.10/dist-packages (from sqlalchemy->pandasql) (4.5.0)\n",
            "Requirement already satisfied: greenlet!=0.4.17 in /usr/local/lib/python3.10/dist-packages (from sqlalchemy->pandasql) (2.0.2)\n",
            "Requirement already satisfied: six>=1.5 in /usr/local/lib/python3.10/dist-packages (from python-dateutil>=2.8.1->pandas->pandasql) (1.16.0)\n"
          ]
        }
      ]
    },
    {
      "cell_type": "code",
      "execution_count": 2,
      "metadata": {
        "id": "yFE-gZGnvkvZ"
      },
      "outputs": [],
      "source": [
        "# Import the libraries.\n",
        "import sqlite3\n",
        "import requests\n",
        "import os\n",
        "import pandas as pd\n",
        "import pandasql as psql\n",
        "from google.colab import files\n",
        "import io\n",
        "import json"
      ]
    },
    {
      "cell_type": "code",
      "source": [
        "# Use files.upload to produce the \"Choose Files\" button below, then select your file.\n",
        "uploaded = files.upload()\n",
        "\n",
        "# Use io.BytesIO to decode the file, then json.load to open it.\n",
        "file = io.BytesIO(uploaded['Hotel_report_secrets.json'])\n",
        "credentials = json.load(file)\n",
        "\n",
        "print(credentials)"
      ],
      "metadata": {
        "id": "s6fdSFfQkDj5"
      },
      "execution_count": null,
      "outputs": []
    },
    {
      "cell_type": "code",
      "source": [
        "\n",
        "url = \"https://absentdata.com/wp-content/uploads/2021/05/hotel_revenue_historical_full-2.xlsx\"\n",
        "\n",
        "response = requests.get(url)\n",
        "\n",
        "with open(os.path.join(credentials[\"PATH\"], credentials[\"FILE_NAME\"]), \"wb\") as f:\n",
        "    f.write(response.content)"
      ],
      "metadata": {
        "id": "7cUWLQeRv2Cc"
      },
      "execution_count": 4,
      "outputs": []
    },
    {
      "cell_type": "code",
      "source": [
        "excel_file = os.path.join(credentials[\"PATH\"], credentials[\"FILE_NAME\"])\n",
        "sheets_dict = pd.read_excel(excel_file, sheet_name=None)"
      ],
      "metadata": {
        "id": "sVWrONYIici0"
      },
      "execution_count": 5,
      "outputs": []
    },
    {
      "cell_type": "code",
      "source": [
        "df1 = sheets_dict['2018']\n",
        "df2 = sheets_dict['2019']\n",
        "df3 = sheets_dict['2020']\n",
        "df4 = sheets_dict['meal_cost']\n",
        "df5 = sheets_dict['market_segment']"
      ],
      "metadata": {
        "id": "UnCEH-m-i-sd"
      },
      "execution_count": 6,
      "outputs": []
    },
    {
      "cell_type": "code",
      "source": [
        "df1.head(3)\n",
        "# del df"
      ],
      "metadata": {
        "colab": {
          "base_uri": "https://localhost:8080/",
          "height": 289
        },
        "id": "KVk7X9Y-v13F",
        "outputId": "0a61f9f3-5093-4b90-f7a8-fc8cc8c7954b"
      },
      "execution_count": 7,
      "outputs": [
        {
          "output_type": "execute_result",
          "data": {
            "text/plain": [
              "          hotel  is_canceled  lead_time  arrival_date_year arrival_date_month  \\\n",
              "0  Resort Hotel            1         85               2018               July   \n",
              "1  Resort Hotel            1         75               2018               July   \n",
              "2  Resort Hotel            1         23               2018               July   \n",
              "\n",
              "   arrival_date_week_number  arrival_date_day_of_month  \\\n",
              "0                        27                          1   \n",
              "1                        27                          1   \n",
              "2                        27                          1   \n",
              "\n",
              "   stays_in_weekend_nights  stays_in_week_nights  adults  ...  deposit_type  \\\n",
              "0                        0                     3       2  ...    No Deposit   \n",
              "1                        0                     3       2  ...    No Deposit   \n",
              "2                        0                     4       2  ...    No Deposit   \n",
              "\n",
              "   agent company days_in_waiting_list customer_type    adr  \\\n",
              "0  240.0     NaN                    0     Transient   82.0   \n",
              "1   15.0     NaN                    0     Transient  105.5   \n",
              "2  240.0     NaN                    0     Transient  123.0   \n",
              "\n",
              "   required_car_parking_spaces  total_of_special_requests  reservation_status  \\\n",
              "0                            0                          1            Canceled   \n",
              "1                            0                          0            Canceled   \n",
              "2                            0                          0            Canceled   \n",
              "\n",
              "  reservation_status_date  \n",
              "0              2018-05-06  \n",
              "1              2018-04-22  \n",
              "2              2018-06-23  \n",
              "\n",
              "[3 rows x 32 columns]"
            ],
            "text/html": [
              "\n",
              "  <div id=\"df-5c8fdd38-15d0-4fdf-b11b-93a2108e3fd5\">\n",
              "    <div class=\"colab-df-container\">\n",
              "      <div>\n",
              "<style scoped>\n",
              "    .dataframe tbody tr th:only-of-type {\n",
              "        vertical-align: middle;\n",
              "    }\n",
              "\n",
              "    .dataframe tbody tr th {\n",
              "        vertical-align: top;\n",
              "    }\n",
              "\n",
              "    .dataframe thead th {\n",
              "        text-align: right;\n",
              "    }\n",
              "</style>\n",
              "<table border=\"1\" class=\"dataframe\">\n",
              "  <thead>\n",
              "    <tr style=\"text-align: right;\">\n",
              "      <th></th>\n",
              "      <th>hotel</th>\n",
              "      <th>is_canceled</th>\n",
              "      <th>lead_time</th>\n",
              "      <th>arrival_date_year</th>\n",
              "      <th>arrival_date_month</th>\n",
              "      <th>arrival_date_week_number</th>\n",
              "      <th>arrival_date_day_of_month</th>\n",
              "      <th>stays_in_weekend_nights</th>\n",
              "      <th>stays_in_week_nights</th>\n",
              "      <th>adults</th>\n",
              "      <th>...</th>\n",
              "      <th>deposit_type</th>\n",
              "      <th>agent</th>\n",
              "      <th>company</th>\n",
              "      <th>days_in_waiting_list</th>\n",
              "      <th>customer_type</th>\n",
              "      <th>adr</th>\n",
              "      <th>required_car_parking_spaces</th>\n",
              "      <th>total_of_special_requests</th>\n",
              "      <th>reservation_status</th>\n",
              "      <th>reservation_status_date</th>\n",
              "    </tr>\n",
              "  </thead>\n",
              "  <tbody>\n",
              "    <tr>\n",
              "      <th>0</th>\n",
              "      <td>Resort Hotel</td>\n",
              "      <td>1</td>\n",
              "      <td>85</td>\n",
              "      <td>2018</td>\n",
              "      <td>July</td>\n",
              "      <td>27</td>\n",
              "      <td>1</td>\n",
              "      <td>0</td>\n",
              "      <td>3</td>\n",
              "      <td>2</td>\n",
              "      <td>...</td>\n",
              "      <td>No Deposit</td>\n",
              "      <td>240.0</td>\n",
              "      <td>NaN</td>\n",
              "      <td>0</td>\n",
              "      <td>Transient</td>\n",
              "      <td>82.0</td>\n",
              "      <td>0</td>\n",
              "      <td>1</td>\n",
              "      <td>Canceled</td>\n",
              "      <td>2018-05-06</td>\n",
              "    </tr>\n",
              "    <tr>\n",
              "      <th>1</th>\n",
              "      <td>Resort Hotel</td>\n",
              "      <td>1</td>\n",
              "      <td>75</td>\n",
              "      <td>2018</td>\n",
              "      <td>July</td>\n",
              "      <td>27</td>\n",
              "      <td>1</td>\n",
              "      <td>0</td>\n",
              "      <td>3</td>\n",
              "      <td>2</td>\n",
              "      <td>...</td>\n",
              "      <td>No Deposit</td>\n",
              "      <td>15.0</td>\n",
              "      <td>NaN</td>\n",
              "      <td>0</td>\n",
              "      <td>Transient</td>\n",
              "      <td>105.5</td>\n",
              "      <td>0</td>\n",
              "      <td>0</td>\n",
              "      <td>Canceled</td>\n",
              "      <td>2018-04-22</td>\n",
              "    </tr>\n",
              "    <tr>\n",
              "      <th>2</th>\n",
              "      <td>Resort Hotel</td>\n",
              "      <td>1</td>\n",
              "      <td>23</td>\n",
              "      <td>2018</td>\n",
              "      <td>July</td>\n",
              "      <td>27</td>\n",
              "      <td>1</td>\n",
              "      <td>0</td>\n",
              "      <td>4</td>\n",
              "      <td>2</td>\n",
              "      <td>...</td>\n",
              "      <td>No Deposit</td>\n",
              "      <td>240.0</td>\n",
              "      <td>NaN</td>\n",
              "      <td>0</td>\n",
              "      <td>Transient</td>\n",
              "      <td>123.0</td>\n",
              "      <td>0</td>\n",
              "      <td>0</td>\n",
              "      <td>Canceled</td>\n",
              "      <td>2018-06-23</td>\n",
              "    </tr>\n",
              "  </tbody>\n",
              "</table>\n",
              "<p>3 rows × 32 columns</p>\n",
              "</div>\n",
              "      <button class=\"colab-df-convert\" onclick=\"convertToInteractive('df-5c8fdd38-15d0-4fdf-b11b-93a2108e3fd5')\"\n",
              "              title=\"Convert this dataframe to an interactive table.\"\n",
              "              style=\"display:none;\">\n",
              "        \n",
              "  <svg xmlns=\"http://www.w3.org/2000/svg\" height=\"24px\"viewBox=\"0 0 24 24\"\n",
              "       width=\"24px\">\n",
              "    <path d=\"M0 0h24v24H0V0z\" fill=\"none\"/>\n",
              "    <path d=\"M18.56 5.44l.94 2.06.94-2.06 2.06-.94-2.06-.94-.94-2.06-.94 2.06-2.06.94zm-11 1L8.5 8.5l.94-2.06 2.06-.94-2.06-.94L8.5 2.5l-.94 2.06-2.06.94zm10 10l.94 2.06.94-2.06 2.06-.94-2.06-.94-.94-2.06-.94 2.06-2.06.94z\"/><path d=\"M17.41 7.96l-1.37-1.37c-.4-.4-.92-.59-1.43-.59-.52 0-1.04.2-1.43.59L10.3 9.45l-7.72 7.72c-.78.78-.78 2.05 0 2.83L4 21.41c.39.39.9.59 1.41.59.51 0 1.02-.2 1.41-.59l7.78-7.78 2.81-2.81c.8-.78.8-2.07 0-2.86zM5.41 20L4 18.59l7.72-7.72 1.47 1.35L5.41 20z\"/>\n",
              "  </svg>\n",
              "      </button>\n",
              "      \n",
              "  <style>\n",
              "    .colab-df-container {\n",
              "      display:flex;\n",
              "      flex-wrap:wrap;\n",
              "      gap: 12px;\n",
              "    }\n",
              "\n",
              "    .colab-df-convert {\n",
              "      background-color: #E8F0FE;\n",
              "      border: none;\n",
              "      border-radius: 50%;\n",
              "      cursor: pointer;\n",
              "      display: none;\n",
              "      fill: #1967D2;\n",
              "      height: 32px;\n",
              "      padding: 0 0 0 0;\n",
              "      width: 32px;\n",
              "    }\n",
              "\n",
              "    .colab-df-convert:hover {\n",
              "      background-color: #E2EBFA;\n",
              "      box-shadow: 0px 1px 2px rgba(60, 64, 67, 0.3), 0px 1px 3px 1px rgba(60, 64, 67, 0.15);\n",
              "      fill: #174EA6;\n",
              "    }\n",
              "\n",
              "    [theme=dark] .colab-df-convert {\n",
              "      background-color: #3B4455;\n",
              "      fill: #D2E3FC;\n",
              "    }\n",
              "\n",
              "    [theme=dark] .colab-df-convert:hover {\n",
              "      background-color: #434B5C;\n",
              "      box-shadow: 0px 1px 3px 1px rgba(0, 0, 0, 0.15);\n",
              "      filter: drop-shadow(0px 1px 2px rgba(0, 0, 0, 0.3));\n",
              "      fill: #FFFFFF;\n",
              "    }\n",
              "  </style>\n",
              "\n",
              "      <script>\n",
              "        const buttonEl =\n",
              "          document.querySelector('#df-5c8fdd38-15d0-4fdf-b11b-93a2108e3fd5 button.colab-df-convert');\n",
              "        buttonEl.style.display =\n",
              "          google.colab.kernel.accessAllowed ? 'block' : 'none';\n",
              "\n",
              "        async function convertToInteractive(key) {\n",
              "          const element = document.querySelector('#df-5c8fdd38-15d0-4fdf-b11b-93a2108e3fd5');\n",
              "          const dataTable =\n",
              "            await google.colab.kernel.invokeFunction('convertToInteractive',\n",
              "                                                     [key], {});\n",
              "          if (!dataTable) return;\n",
              "\n",
              "          const docLinkHtml = 'Like what you see? Visit the ' +\n",
              "            '<a target=\"_blank\" href=https://colab.research.google.com/notebooks/data_table.ipynb>data table notebook</a>'\n",
              "            + ' to learn more about interactive tables.';\n",
              "          element.innerHTML = '';\n",
              "          dataTable['output_type'] = 'display_data';\n",
              "          await google.colab.output.renderOutput(dataTable, element);\n",
              "          const docLink = document.createElement('div');\n",
              "          docLink.innerHTML = docLinkHtml;\n",
              "          element.appendChild(docLink);\n",
              "        }\n",
              "      </script>\n",
              "    </div>\n",
              "  </div>\n",
              "  "
            ]
          },
          "metadata": {},
          "execution_count": 7
        }
      ]
    },
    {
      "cell_type": "code",
      "source": [
        "columns = df1.columns#.tolist()\n",
        "print(columns)"
      ],
      "metadata": {
        "colab": {
          "base_uri": "https://localhost:8080/"
        },
        "id": "0YaCjx4xrF3R",
        "outputId": "8dff7e6b-6277-4375-f3bc-97b6dd3a53e8"
      },
      "execution_count": 8,
      "outputs": [
        {
          "output_type": "stream",
          "name": "stdout",
          "text": [
            "Index(['hotel', 'is_canceled', 'lead_time', 'arrival_date_year',\n",
            "       'arrival_date_month', 'arrival_date_week_number',\n",
            "       'arrival_date_day_of_month', 'stays_in_weekend_nights',\n",
            "       'stays_in_week_nights', 'adults', 'children', 'babies', 'meal',\n",
            "       'country', 'market_segment', 'distribution_channel',\n",
            "       'is_repeated_guest', 'previous_cancellations',\n",
            "       'previous_bookings_not_canceled', 'reserved_room_type',\n",
            "       'assigned_room_type', 'booking_changes', 'deposit_type', 'agent',\n",
            "       'company', 'days_in_waiting_list', 'customer_type', 'adr',\n",
            "       'required_car_parking_spaces', 'total_of_special_requests',\n",
            "       'reservation_status', 'reservation_status_date'],\n",
            "      dtype='object')\n"
          ]
        }
      ]
    },
    {
      "cell_type": "code",
      "source": [
        "# conn = sqlite3.connect(':memory:')\n",
        "conn = sqlite3.connect(credentials[\"PATH\"] + 'hotel_database.db')\n"
      ],
      "metadata": {
        "id": "vYLvoQuNv1uW"
      },
      "execution_count": 9,
      "outputs": []
    },
    {
      "cell_type": "code",
      "source": [
        "df1.to_sql('df1', conn, index=False, if_exists='replace')\n",
        "df2.to_sql('df2', conn, index=False, if_exists='replace')\n",
        "df3.to_sql('df3', conn, index=False, if_exists='replace')\n",
        "df4.to_sql('df4', conn, index=False, if_exists='replace')\n",
        "df5.to_sql('df5', conn, index=False, if_exists='replace')"
      ],
      "metadata": {
        "id": "WrzdP2hZv1Zs",
        "colab": {
          "base_uri": "https://localhost:8080/"
        },
        "outputId": "e0177f3d-070a-45d2-a297-6f8b7627554c"
      },
      "execution_count": 10,
      "outputs": [
        {
          "output_type": "execute_result",
          "data": {
            "text/plain": [
              "8"
            ]
          },
          "metadata": {},
          "execution_count": 10
        }
      ]
    },
    {
      "cell_type": "code",
      "source": [
        "def run_query(query):\n",
        "  return pd.read_sql_query(query, conn)"
      ],
      "metadata": {
        "id": "x8UNj6ozv1pc"
      },
      "execution_count": 11,
      "outputs": []
    },
    {
      "cell_type": "code",
      "source": [
        "query = \"\"\"\n",
        "WITH hotels as\n",
        "(SELECT * FROM df1\n",
        "UNION\n",
        "SELECT * FROM df2\n",
        "UNION\n",
        "SELECT * FROM df3)\n",
        "SELECT * FROM hotels\n",
        "\"\"\"\n",
        "\n",
        "result = run_query(query)\n",
        "print(result)"
      ],
      "metadata": {
        "id": "XWV5LkHav1UJ",
        "colab": {
          "base_uri": "https://localhost:8080/"
        },
        "outputId": "9449891e-1118-4f0d-c1c1-64b0cd45a969"
      },
      "execution_count": 12,
      "outputs": [
        {
          "output_type": "stream",
          "name": "stdout",
          "text": [
            "               hotel  is_canceled  lead_time  arrival_date_year  \\\n",
            "0         City Hotel            0          0               2018   \n",
            "1         City Hotel            0          0               2018   \n",
            "2         City Hotel            0          0               2018   \n",
            "3         City Hotel            0          0               2018   \n",
            "4         City Hotel            0          0               2018   \n",
            "...              ...          ...        ...                ...   \n",
            "100751  Resort Hotel            1        468               2019   \n",
            "100752  Resort Hotel            1        468               2019   \n",
            "100753  Resort Hotel            1        468               2019   \n",
            "100754  Resort Hotel            1        468               2019   \n",
            "100755  Resort Hotel            1        471               2020   \n",
            "\n",
            "       arrival_date_month  arrival_date_week_number  \\\n",
            "0                  August                        31   \n",
            "1                  August                        32   \n",
            "2                  August                        32   \n",
            "3                  August                        32   \n",
            "4                  August                        32   \n",
            "...                   ...                       ...   \n",
            "100751                May                        20   \n",
            "100752                May                        20   \n",
            "100753                May                        20   \n",
            "100754                May                        20   \n",
            "100755                May                        20   \n",
            "\n",
            "        arrival_date_day_of_month  stays_in_weekend_nights  \\\n",
            "0                               1                        0   \n",
            "1                               3                        1   \n",
            "2                               3                        1   \n",
            "3                               3                        1   \n",
            "4                               4                        0   \n",
            "...                           ...                      ...   \n",
            "100751                         12                        0   \n",
            "100752                         12                        0   \n",
            "100753                         12                        0   \n",
            "100754                         12                        0   \n",
            "100755                         20                        2   \n",
            "\n",
            "        stays_in_week_nights  adults  ...  deposit_type  agent company  \\\n",
            "0                          1       2  ...    No Deposit    NaN     NaN   \n",
            "1                          0       2  ...    No Deposit    NaN     NaN   \n",
            "2                          0       2  ...    No Deposit    NaN     NaN   \n",
            "3                          2       1  ...    No Deposit    NaN    40.0   \n",
            "4                          1       2  ...    No Deposit    9.0     NaN   \n",
            "...                      ...     ...  ...           ...    ...     ...   \n",
            "100751                     2       2  ...    No Deposit  249.0     NaN   \n",
            "100752                     2       2  ...    No Deposit  249.0     NaN   \n",
            "100753                     2       2  ...    No Deposit  249.0     NaN   \n",
            "100754                     2       2  ...    No Deposit  249.0     NaN   \n",
            "100755                     5       2  ...    Non Refund   96.0     NaN   \n",
            "\n",
            "       days_in_waiting_list    customer_type   adr  \\\n",
            "0                         0        Transient  75.0   \n",
            "1                         0        Transient   0.0   \n",
            "2                         0        Transient   0.0   \n",
            "3                         0            Group  65.0   \n",
            "4                         0        Transient  90.0   \n",
            "...                     ...              ...   ...   \n",
            "100751                    0  Transient-Party  67.0   \n",
            "100752                    0  Transient-Party  26.0   \n",
            "100753                    0  Transient-Party  67.0   \n",
            "100754                    0  Transient-Party  67.0   \n",
            "100755                    0        Transient  47.0   \n",
            "\n",
            "        required_car_parking_spaces  total_of_special_requests  \\\n",
            "0                                 0                          0   \n",
            "1                                 0                          0   \n",
            "2                                 0                          0   \n",
            "3                                 0                          0   \n",
            "4                                 0                          0   \n",
            "...                             ...                        ...   \n",
            "100751                            0                          0   \n",
            "100752                            0                          0   \n",
            "100753                            0                          0   \n",
            "100754                            0                          0   \n",
            "100755                            0                          0   \n",
            "\n",
            "        reservation_status reservation_status_date  \n",
            "0                Check-Out     2018-08-02 00:00:00  \n",
            "1                Check-Out     2018-08-04 00:00:00  \n",
            "2                Check-Out     2018-08-04 00:00:00  \n",
            "3                Check-Out     2018-08-06 00:00:00  \n",
            "4                Check-Out     2018-08-05 00:00:00  \n",
            "...                    ...                     ...  \n",
            "100751            Canceled     2019-03-04 00:00:00  \n",
            "100752            Canceled     2019-05-03 00:00:00  \n",
            "100753            Canceled     2019-05-03 00:00:00  \n",
            "100754            Canceled     2018-07-30 00:00:00  \n",
            "100755            Canceled     2020-05-03 00:00:00  \n",
            "\n",
            "[100756 rows x 32 columns]\n"
          ]
        }
      ]
    },
    {
      "cell_type": "code",
      "source": [
        "#Revenue here does not include discount \n",
        "query = \"\"\"\n",
        "WITH hotels as\n",
        "(SELECT * FROM df1\n",
        "UNION\n",
        "SELECT * FROM df2\n",
        "UNION\n",
        "SELECT * FROM df3)\n",
        "\n",
        "SELECT \n",
        "arrival_date_year,\n",
        "hotel,\n",
        "ROUND(SUM((stays_in_weekend_nights + stays_in_week_nights) * adr),1) as revenue  \n",
        "FROM hotels\n",
        "GROUP BY hotel, arrival_date_year\n",
        "\"\"\"\n",
        "\n",
        "result = run_query(query)\n",
        "print(result)"
      ],
      "metadata": {
        "id": "8M6M2BSvv1Nc",
        "colab": {
          "base_uri": "https://localhost:8080/"
        },
        "outputId": "fcbc24d0-fd88-428c-af91-c958328242d3"
      },
      "execution_count": 13,
      "outputs": [
        {
          "output_type": "stream",
          "name": "stdout",
          "text": [
            "   arrival_date_year         hotel     revenue\n",
            "0               2018    City Hotel   1764667.6\n",
            "1               2019    City Hotel  10755979.1\n",
            "2               2020    City Hotel   8018122.4\n",
            "3               2018  Resort Hotel   3120849.5\n",
            "4               2019  Resort Hotel   9432430.3\n",
            "5               2020  Resort Hotel   6266123.8\n"
          ]
        }
      ]
    },
    {
      "cell_type": "code",
      "source": [
        "query = \"\"\"\n",
        "SELECT * FROM df5\n",
        "\"\"\"\n",
        "\n",
        "result = run_query(query)\n",
        "print(result)"
      ],
      "metadata": {
        "id": "t-9LuN5Bv1DQ",
        "colab": {
          "base_uri": "https://localhost:8080/"
        },
        "outputId": "7da971b8-9217-41c4-8297-86cac7d8c532"
      },
      "execution_count": 14,
      "outputs": [
        {
          "output_type": "stream",
          "name": "stdout",
          "text": [
            "   Discount market_segment\n",
            "0      0.00      Undefined\n",
            "1      0.10         Direct\n",
            "2      0.10         Groups\n",
            "3      0.15      Corporate\n",
            "4      0.20       Aviation\n",
            "5      0.30  Offline TA/TO\n",
            "6      0.30      Online TA\n",
            "7      1.00  Complementary\n"
          ]
        }
      ]
    },
    {
      "cell_type": "code",
      "source": [
        "query = \"\"\"\n",
        "WITH hotels as\n",
        "(SELECT * FROM df1\n",
        "UNION\n",
        "SELECT * FROM df2\n",
        "UNION\n",
        "SELECT * FROM df3)\n",
        "\n",
        "SELECT * FROM hotels\n",
        "LEFT JOIN df5 \n",
        "ON hotels.market_segment = df5.market_segment\n",
        "\"\"\"\n",
        "\n",
        "result = run_query(query)\n",
        "print(result)"
      ],
      "metadata": {
        "id": "XAoTw-Wevz_h",
        "colab": {
          "base_uri": "https://localhost:8080/"
        },
        "outputId": "7351f016-dbc0-48ed-abd0-993f7a56cf43"
      },
      "execution_count": 15,
      "outputs": [
        {
          "output_type": "stream",
          "name": "stdout",
          "text": [
            "               hotel  is_canceled  lead_time  arrival_date_year  \\\n",
            "0         City Hotel            0          0               2018   \n",
            "1         City Hotel            0          0               2018   \n",
            "2         City Hotel            0          0               2018   \n",
            "3         City Hotel            0          0               2018   \n",
            "4         City Hotel            0          0               2018   \n",
            "...              ...          ...        ...                ...   \n",
            "100751  Resort Hotel            1        468               2019   \n",
            "100752  Resort Hotel            1        468               2019   \n",
            "100753  Resort Hotel            1        468               2019   \n",
            "100754  Resort Hotel            1        468               2019   \n",
            "100755  Resort Hotel            1        471               2020   \n",
            "\n",
            "       arrival_date_month  arrival_date_week_number  \\\n",
            "0                  August                        31   \n",
            "1                  August                        32   \n",
            "2                  August                        32   \n",
            "3                  August                        32   \n",
            "4                  August                        32   \n",
            "...                   ...                       ...   \n",
            "100751                May                        20   \n",
            "100752                May                        20   \n",
            "100753                May                        20   \n",
            "100754                May                        20   \n",
            "100755                May                        20   \n",
            "\n",
            "        arrival_date_day_of_month  stays_in_weekend_nights  \\\n",
            "0                               1                        0   \n",
            "1                               3                        1   \n",
            "2                               3                        1   \n",
            "3                               3                        1   \n",
            "4                               4                        0   \n",
            "...                           ...                      ...   \n",
            "100751                         12                        0   \n",
            "100752                         12                        0   \n",
            "100753                         12                        0   \n",
            "100754                         12                        0   \n",
            "100755                         20                        2   \n",
            "\n",
            "        stays_in_week_nights  adults  ...  company  days_in_waiting_list  \\\n",
            "0                          1       2  ...      NaN                     0   \n",
            "1                          0       2  ...      NaN                     0   \n",
            "2                          0       2  ...      NaN                     0   \n",
            "3                          2       1  ...     40.0                     0   \n",
            "4                          1       2  ...      NaN                     0   \n",
            "...                      ...     ...  ...      ...                   ...   \n",
            "100751                     2       2  ...      NaN                     0   \n",
            "100752                     2       2  ...      NaN                     0   \n",
            "100753                     2       2  ...      NaN                     0   \n",
            "100754                     2       2  ...      NaN                     0   \n",
            "100755                     5       2  ...      NaN                     0   \n",
            "\n",
            "          customer_type   adr required_car_parking_spaces  \\\n",
            "0             Transient  75.0                           0   \n",
            "1             Transient   0.0                           0   \n",
            "2             Transient   0.0                           0   \n",
            "3                 Group  65.0                           0   \n",
            "4             Transient  90.0                           0   \n",
            "...                 ...   ...                         ...   \n",
            "100751  Transient-Party  67.0                           0   \n",
            "100752  Transient-Party  26.0                           0   \n",
            "100753  Transient-Party  67.0                           0   \n",
            "100754  Transient-Party  67.0                           0   \n",
            "100755        Transient  47.0                           0   \n",
            "\n",
            "       total_of_special_requests  reservation_status  reservation_status_date  \\\n",
            "0                              0           Check-Out      2018-08-02 00:00:00   \n",
            "1                              0           Check-Out      2018-08-04 00:00:00   \n",
            "2                              0           Check-Out      2018-08-04 00:00:00   \n",
            "3                              0           Check-Out      2018-08-06 00:00:00   \n",
            "4                              0           Check-Out      2018-08-05 00:00:00   \n",
            "...                          ...                 ...                      ...   \n",
            "100751                         0            Canceled      2019-03-04 00:00:00   \n",
            "100752                         0            Canceled      2019-05-03 00:00:00   \n",
            "100753                         0            Canceled      2019-05-03 00:00:00   \n",
            "100754                         0            Canceled      2018-07-30 00:00:00   \n",
            "100755                         0            Canceled      2020-05-03 00:00:00   \n",
            "\n",
            "        Discount market_segment  \n",
            "0           0.10         Direct  \n",
            "1           1.00  Complementary  \n",
            "2           1.00  Complementary  \n",
            "3           0.15      Corporate  \n",
            "4           0.30      Online TA  \n",
            "...          ...            ...  \n",
            "100751      0.10         Groups  \n",
            "100752      0.10         Groups  \n",
            "100753      0.10         Groups  \n",
            "100754      0.10         Groups  \n",
            "100755      0.10         Groups  \n",
            "\n",
            "[100756 rows x 34 columns]\n"
          ]
        }
      ]
    },
    {
      "cell_type": "code",
      "source": [
        "query = \"\"\"\n",
        "WITH hotels as\n",
        "(SELECT * FROM df1\n",
        "UNION\n",
        "SELECT * FROM df2\n",
        "UNION\n",
        "SELECT * FROM df3)\n",
        "\n",
        "SELECT * FROM hotels\n",
        "LEFT JOIN df5 \n",
        "ON hotels.market_segment = df5.market_segment\n",
        "\"\"\"\n",
        "\n",
        "result = run_query(query)\n",
        "columns = result.columns#.tolist()\n",
        "print(columns)"
      ],
      "metadata": {
        "id": "QXGkdpsbvvH7",
        "colab": {
          "base_uri": "https://localhost:8080/"
        },
        "outputId": "26bfc033-05b7-4f85-b72a-77ffd281ed4b"
      },
      "execution_count": 16,
      "outputs": [
        {
          "output_type": "stream",
          "name": "stdout",
          "text": [
            "Index(['hotel', 'is_canceled', 'lead_time', 'arrival_date_year',\n",
            "       'arrival_date_month', 'arrival_date_week_number',\n",
            "       'arrival_date_day_of_month', 'stays_in_weekend_nights',\n",
            "       'stays_in_week_nights', 'adults', 'children', 'babies', 'meal',\n",
            "       'country', 'market_segment', 'distribution_channel',\n",
            "       'is_repeated_guest', 'previous_cancellations',\n",
            "       'previous_bookings_not_canceled', 'reserved_room_type',\n",
            "       'assigned_room_type', 'booking_changes', 'deposit_type', 'agent',\n",
            "       'company', 'days_in_waiting_list', 'customer_type', 'adr',\n",
            "       'required_car_parking_spaces', 'total_of_special_requests',\n",
            "       'reservation_status', 'reservation_status_date', 'Discount',\n",
            "       'market_segment'],\n",
            "      dtype='object')\n"
          ]
        }
      ]
    },
    {
      "cell_type": "code",
      "source": [
        "query = \"\"\"\n",
        "WITH hotels as\n",
        "(SELECT * FROM df1\n",
        "UNION\n",
        "SELECT * FROM df2\n",
        "UNION\n",
        "SELECT * FROM df3)\n",
        "\n",
        "SELECT * FROM hotels\n",
        "LEFT JOIN df5 \n",
        "ON hotels.market_segment = df5.market_segment\n",
        "\"\"\"\n",
        "\n",
        "result = run_query(query)\n",
        "# columns = result.columns#.tolist()\n",
        "# print(columns)\n",
        "\n",
        "desired_column = result[[\"market_segment\", \"Discount\"]]\n",
        "print(desired_column.isnull().any())"
      ],
      "metadata": {
        "colab": {
          "base_uri": "https://localhost:8080/"
        },
        "outputId": "da1393cd-710b-4e85-e5cf-6eaf3fab4b77",
        "id": "TrhJaLfa5CR9"
      },
      "execution_count": 17,
      "outputs": [
        {
          "output_type": "stream",
          "name": "stdout",
          "text": [
            "market_segment    False\n",
            "market_segment    False\n",
            "Discount          False\n",
            "dtype: bool\n"
          ]
        }
      ]
    },
    {
      "cell_type": "code",
      "source": [
        "query = \"\"\"\n",
        "SELECT * FROM df4\n",
        "\"\"\"\n",
        "\n",
        "result = run_query(query)\n",
        "print(result)"
      ],
      "metadata": {
        "colab": {
          "base_uri": "https://localhost:8080/"
        },
        "id": "nUDSS5UT3Urj",
        "outputId": "2d2a5b7f-fd97-4772-85bf-b4ee7c91eb9c"
      },
      "execution_count": 18,
      "outputs": [
        {
          "output_type": "stream",
          "name": "stdout",
          "text": [
            "    Cost       meal\n",
            "0   0.00  Undefined\n",
            "1  12.99         BB\n",
            "2  17.99         HB\n",
            "3  21.99         FB\n",
            "4  35.00         SC\n"
          ]
        }
      ]
    },
    {
      "cell_type": "code",
      "source": [
        "query = \"\"\"\n",
        "WITH hotels as\n",
        "(SELECT * FROM df1\n",
        "UNION\n",
        "SELECT * FROM df2\n",
        "UNION\n",
        "SELECT * FROM df3)\n",
        "\n",
        "SELECT * FROM hotels\n",
        "LEFT JOIN df5 \n",
        "ON hotels.market_segment = df5.market_segment\n",
        "LEFT JOIN df4\n",
        "ON hotels.meal = df4.meal\n",
        "\"\"\"\n",
        "\n",
        "result = run_query(query)\n",
        "columns = result.columns#.tolist()\n",
        "print(columns)\n",
        "\n",
        "desired_column = result[[\"meal\", \"Cost\"]]\n",
        "print(desired_column.isnull().any())"
      ],
      "metadata": {
        "colab": {
          "base_uri": "https://localhost:8080/"
        },
        "id": "tKX56TF65ORS",
        "outputId": "7076b8ae-0268-4f73-854b-c84eef7ab904"
      },
      "execution_count": 19,
      "outputs": [
        {
          "output_type": "stream",
          "name": "stdout",
          "text": [
            "Index(['hotel', 'is_canceled', 'lead_time', 'arrival_date_year',\n",
            "       'arrival_date_month', 'arrival_date_week_number',\n",
            "       'arrival_date_day_of_month', 'stays_in_weekend_nights',\n",
            "       'stays_in_week_nights', 'adults', 'children', 'babies', 'meal',\n",
            "       'country', 'market_segment', 'distribution_channel',\n",
            "       'is_repeated_guest', 'previous_cancellations',\n",
            "       'previous_bookings_not_canceled', 'reserved_room_type',\n",
            "       'assigned_room_type', 'booking_changes', 'deposit_type', 'agent',\n",
            "       'company', 'days_in_waiting_list', 'customer_type', 'adr',\n",
            "       'required_car_parking_spaces', 'total_of_special_requests',\n",
            "       'reservation_status', 'reservation_status_date', 'Discount',\n",
            "       'market_segment', 'Cost', 'meal'],\n",
            "      dtype='object')\n",
            "meal    False\n",
            "meal    False\n",
            "Cost    False\n",
            "dtype: bool\n"
          ]
        }
      ]
    },
    {
      "cell_type": "markdown",
      "source": [
        "**NOTE:** At this point, we will pull the information from our database into Power BI to create a visualization (report). Once the visualization is ready, we will pull it back into Google Colab for final presentation."
      ],
      "metadata": {
        "id": "C2hNvf2QppnS"
      }
    },
    {
      "cell_type": "code",
      "source": [
        "!pip install powerbiclient"
      ],
      "metadata": {
        "id": "1ptCrBuV9Sga",
        "colab": {
          "base_uri": "https://localhost:8080/"
        },
        "outputId": "cc6de2ed-1baf-451a-c6d6-539f97036f2c"
      },
      "execution_count": 20,
      "outputs": [
        {
          "output_type": "stream",
          "name": "stdout",
          "text": [
            "Looking in indexes: https://pypi.org/simple, https://us-python.pkg.dev/colab-wheels/public/simple/\n",
            "Requirement already satisfied: powerbiclient in /usr/local/lib/python3.10/dist-packages (3.0.0)\n",
            "Requirement already satisfied: ipywidgets>=7.0.0 in /usr/local/lib/python3.10/dist-packages (from powerbiclient) (7.7.1)\n",
            "Requirement already satisfied: jupyter-ui-poll>=0.1.2 in /usr/local/lib/python3.10/dist-packages (from powerbiclient) (0.2.2)\n",
            "Requirement already satisfied: msal>=1.8.0 in /usr/local/lib/python3.10/dist-packages (from powerbiclient) (1.22.0)\n",
            "Requirement already satisfied: requests>=2.25.1 in /usr/local/lib/python3.10/dist-packages (from powerbiclient) (2.27.1)\n",
            "Requirement already satisfied: pandas in /usr/local/lib/python3.10/dist-packages (from powerbiclient) (1.5.3)\n",
            "Requirement already satisfied: ipykernel>=4.5.1 in /usr/local/lib/python3.10/dist-packages (from ipywidgets>=7.0.0->powerbiclient) (5.5.6)\n",
            "Requirement already satisfied: ipython-genutils~=0.2.0 in /usr/local/lib/python3.10/dist-packages (from ipywidgets>=7.0.0->powerbiclient) (0.2.0)\n",
            "Requirement already satisfied: traitlets>=4.3.1 in /usr/local/lib/python3.10/dist-packages (from ipywidgets>=7.0.0->powerbiclient) (5.7.1)\n",
            "Requirement already satisfied: widgetsnbextension~=3.6.0 in /usr/local/lib/python3.10/dist-packages (from ipywidgets>=7.0.0->powerbiclient) (3.6.4)\n",
            "Requirement already satisfied: ipython>=4.0.0 in /usr/local/lib/python3.10/dist-packages (from ipywidgets>=7.0.0->powerbiclient) (7.34.0)\n",
            "Requirement already satisfied: jupyterlab-widgets>=1.0.0 in /usr/local/lib/python3.10/dist-packages (from ipywidgets>=7.0.0->powerbiclient) (3.0.7)\n",
            "Requirement already satisfied: PyJWT[crypto]<3,>=1.0.0 in /usr/local/lib/python3.10/dist-packages (from msal>=1.8.0->powerbiclient) (2.7.0)\n",
            "Requirement already satisfied: cryptography<43,>=0.6 in /usr/local/lib/python3.10/dist-packages (from msal>=1.8.0->powerbiclient) (40.0.2)\n",
            "Requirement already satisfied: urllib3<1.27,>=1.21.1 in /usr/local/lib/python3.10/dist-packages (from requests>=2.25.1->powerbiclient) (1.26.15)\n",
            "Requirement already satisfied: certifi>=2017.4.17 in /usr/local/lib/python3.10/dist-packages (from requests>=2.25.1->powerbiclient) (2022.12.7)\n",
            "Requirement already satisfied: charset-normalizer~=2.0.0 in /usr/local/lib/python3.10/dist-packages (from requests>=2.25.1->powerbiclient) (2.0.12)\n",
            "Requirement already satisfied: idna<4,>=2.5 in /usr/local/lib/python3.10/dist-packages (from requests>=2.25.1->powerbiclient) (3.4)\n",
            "Requirement already satisfied: python-dateutil>=2.8.1 in /usr/local/lib/python3.10/dist-packages (from pandas->powerbiclient) (2.8.2)\n",
            "Requirement already satisfied: pytz>=2020.1 in /usr/local/lib/python3.10/dist-packages (from pandas->powerbiclient) (2022.7.1)\n",
            "Requirement already satisfied: numpy>=1.21.0 in /usr/local/lib/python3.10/dist-packages (from pandas->powerbiclient) (1.22.4)\n",
            "Requirement already satisfied: cffi>=1.12 in /usr/local/lib/python3.10/dist-packages (from cryptography<43,>=0.6->msal>=1.8.0->powerbiclient) (1.15.1)\n",
            "Requirement already satisfied: jupyter-client in /usr/local/lib/python3.10/dist-packages (from ipykernel>=4.5.1->ipywidgets>=7.0.0->powerbiclient) (6.1.12)\n",
            "Requirement already satisfied: tornado>=4.2 in /usr/local/lib/python3.10/dist-packages (from ipykernel>=4.5.1->ipywidgets>=7.0.0->powerbiclient) (6.2)\n",
            "Requirement already satisfied: setuptools>=18.5 in /usr/local/lib/python3.10/dist-packages (from ipython>=4.0.0->ipywidgets>=7.0.0->powerbiclient) (67.7.2)\n",
            "Requirement already satisfied: jedi>=0.16 in /usr/local/lib/python3.10/dist-packages (from ipython>=4.0.0->ipywidgets>=7.0.0->powerbiclient) (0.18.2)\n",
            "Requirement already satisfied: decorator in /usr/local/lib/python3.10/dist-packages (from ipython>=4.0.0->ipywidgets>=7.0.0->powerbiclient) (4.4.2)\n",
            "Requirement already satisfied: pickleshare in /usr/local/lib/python3.10/dist-packages (from ipython>=4.0.0->ipywidgets>=7.0.0->powerbiclient) (0.7.5)\n",
            "Requirement already satisfied: prompt-toolkit!=3.0.0,!=3.0.1,<3.1.0,>=2.0.0 in /usr/local/lib/python3.10/dist-packages (from ipython>=4.0.0->ipywidgets>=7.0.0->powerbiclient) (3.0.38)\n",
            "Requirement already satisfied: pygments in /usr/local/lib/python3.10/dist-packages (from ipython>=4.0.0->ipywidgets>=7.0.0->powerbiclient) (2.14.0)\n",
            "Requirement already satisfied: backcall in /usr/local/lib/python3.10/dist-packages (from ipython>=4.0.0->ipywidgets>=7.0.0->powerbiclient) (0.2.0)\n",
            "Requirement already satisfied: matplotlib-inline in /usr/local/lib/python3.10/dist-packages (from ipython>=4.0.0->ipywidgets>=7.0.0->powerbiclient) (0.1.6)\n",
            "Requirement already satisfied: pexpect>4.3 in /usr/local/lib/python3.10/dist-packages (from ipython>=4.0.0->ipywidgets>=7.0.0->powerbiclient) (4.8.0)\n",
            "Requirement already satisfied: six>=1.5 in /usr/local/lib/python3.10/dist-packages (from python-dateutil>=2.8.1->pandas->powerbiclient) (1.16.0)\n",
            "Requirement already satisfied: notebook>=4.4.1 in /usr/local/lib/python3.10/dist-packages (from widgetsnbextension~=3.6.0->ipywidgets>=7.0.0->powerbiclient) (6.4.8)\n",
            "Requirement already satisfied: pycparser in /usr/local/lib/python3.10/dist-packages (from cffi>=1.12->cryptography<43,>=0.6->msal>=1.8.0->powerbiclient) (2.21)\n",
            "Requirement already satisfied: parso<0.9.0,>=0.8.0 in /usr/local/lib/python3.10/dist-packages (from jedi>=0.16->ipython>=4.0.0->ipywidgets>=7.0.0->powerbiclient) (0.8.3)\n",
            "Requirement already satisfied: jinja2 in /usr/local/lib/python3.10/dist-packages (from notebook>=4.4.1->widgetsnbextension~=3.6.0->ipywidgets>=7.0.0->powerbiclient) (3.1.2)\n",
            "Requirement already satisfied: pyzmq>=17 in /usr/local/lib/python3.10/dist-packages (from notebook>=4.4.1->widgetsnbextension~=3.6.0->ipywidgets>=7.0.0->powerbiclient) (23.2.1)\n",
            "Requirement already satisfied: argon2-cffi in /usr/local/lib/python3.10/dist-packages (from notebook>=4.4.1->widgetsnbextension~=3.6.0->ipywidgets>=7.0.0->powerbiclient) (21.3.0)\n",
            "Requirement already satisfied: jupyter-core>=4.6.1 in /usr/local/lib/python3.10/dist-packages (from notebook>=4.4.1->widgetsnbextension~=3.6.0->ipywidgets>=7.0.0->powerbiclient) (5.3.0)\n",
            "Requirement already satisfied: nbformat in /usr/local/lib/python3.10/dist-packages (from notebook>=4.4.1->widgetsnbextension~=3.6.0->ipywidgets>=7.0.0->powerbiclient) (5.8.0)\n",
            "Requirement already satisfied: nbconvert in /usr/local/lib/python3.10/dist-packages (from notebook>=4.4.1->widgetsnbextension~=3.6.0->ipywidgets>=7.0.0->powerbiclient) (6.5.4)\n",
            "Requirement already satisfied: nest-asyncio>=1.5 in /usr/local/lib/python3.10/dist-packages (from notebook>=4.4.1->widgetsnbextension~=3.6.0->ipywidgets>=7.0.0->powerbiclient) (1.5.6)\n",
            "Requirement already satisfied: Send2Trash>=1.8.0 in /usr/local/lib/python3.10/dist-packages (from notebook>=4.4.1->widgetsnbextension~=3.6.0->ipywidgets>=7.0.0->powerbiclient) (1.8.0)\n",
            "Requirement already satisfied: terminado>=0.8.3 in /usr/local/lib/python3.10/dist-packages (from notebook>=4.4.1->widgetsnbextension~=3.6.0->ipywidgets>=7.0.0->powerbiclient) (0.17.1)\n",
            "Requirement already satisfied: prometheus-client in /usr/local/lib/python3.10/dist-packages (from notebook>=4.4.1->widgetsnbextension~=3.6.0->ipywidgets>=7.0.0->powerbiclient) (0.16.0)\n",
            "Requirement already satisfied: ptyprocess>=0.5 in /usr/local/lib/python3.10/dist-packages (from pexpect>4.3->ipython>=4.0.0->ipywidgets>=7.0.0->powerbiclient) (0.7.0)\n",
            "Requirement already satisfied: wcwidth in /usr/local/lib/python3.10/dist-packages (from prompt-toolkit!=3.0.0,!=3.0.1,<3.1.0,>=2.0.0->ipython>=4.0.0->ipywidgets>=7.0.0->powerbiclient) (0.2.6)\n",
            "Requirement already satisfied: platformdirs>=2.5 in /usr/local/lib/python3.10/dist-packages (from jupyter-core>=4.6.1->notebook>=4.4.1->widgetsnbextension~=3.6.0->ipywidgets>=7.0.0->powerbiclient) (3.3.0)\n",
            "Requirement already satisfied: argon2-cffi-bindings in /usr/local/lib/python3.10/dist-packages (from argon2-cffi->notebook>=4.4.1->widgetsnbextension~=3.6.0->ipywidgets>=7.0.0->powerbiclient) (21.2.0)\n",
            "Requirement already satisfied: MarkupSafe>=2.0 in /usr/local/lib/python3.10/dist-packages (from jinja2->notebook>=4.4.1->widgetsnbextension~=3.6.0->ipywidgets>=7.0.0->powerbiclient) (2.1.2)\n",
            "Requirement already satisfied: lxml in /usr/local/lib/python3.10/dist-packages (from nbconvert->notebook>=4.4.1->widgetsnbextension~=3.6.0->ipywidgets>=7.0.0->powerbiclient) (4.9.2)\n",
            "Requirement already satisfied: beautifulsoup4 in /usr/local/lib/python3.10/dist-packages (from nbconvert->notebook>=4.4.1->widgetsnbextension~=3.6.0->ipywidgets>=7.0.0->powerbiclient) (4.11.2)\n",
            "Requirement already satisfied: bleach in /usr/local/lib/python3.10/dist-packages (from nbconvert->notebook>=4.4.1->widgetsnbextension~=3.6.0->ipywidgets>=7.0.0->powerbiclient) (6.0.0)\n",
            "Requirement already satisfied: defusedxml in /usr/local/lib/python3.10/dist-packages (from nbconvert->notebook>=4.4.1->widgetsnbextension~=3.6.0->ipywidgets>=7.0.0->powerbiclient) (0.7.1)\n",
            "Requirement already satisfied: entrypoints>=0.2.2 in /usr/local/lib/python3.10/dist-packages (from nbconvert->notebook>=4.4.1->widgetsnbextension~=3.6.0->ipywidgets>=7.0.0->powerbiclient) (0.4)\n",
            "Requirement already satisfied: jupyterlab-pygments in /usr/local/lib/python3.10/dist-packages (from nbconvert->notebook>=4.4.1->widgetsnbextension~=3.6.0->ipywidgets>=7.0.0->powerbiclient) (0.2.2)\n",
            "Requirement already satisfied: mistune<2,>=0.8.1 in /usr/local/lib/python3.10/dist-packages (from nbconvert->notebook>=4.4.1->widgetsnbextension~=3.6.0->ipywidgets>=7.0.0->powerbiclient) (0.8.4)\n",
            "Requirement already satisfied: nbclient>=0.5.0 in /usr/local/lib/python3.10/dist-packages (from nbconvert->notebook>=4.4.1->widgetsnbextension~=3.6.0->ipywidgets>=7.0.0->powerbiclient) (0.7.4)\n",
            "Requirement already satisfied: packaging in /usr/local/lib/python3.10/dist-packages (from nbconvert->notebook>=4.4.1->widgetsnbextension~=3.6.0->ipywidgets>=7.0.0->powerbiclient) (23.1)\n",
            "Requirement already satisfied: pandocfilters>=1.4.1 in /usr/local/lib/python3.10/dist-packages (from nbconvert->notebook>=4.4.1->widgetsnbextension~=3.6.0->ipywidgets>=7.0.0->powerbiclient) (1.5.0)\n",
            "Requirement already satisfied: tinycss2 in /usr/local/lib/python3.10/dist-packages (from nbconvert->notebook>=4.4.1->widgetsnbextension~=3.6.0->ipywidgets>=7.0.0->powerbiclient) (1.2.1)\n",
            "Requirement already satisfied: fastjsonschema in /usr/local/lib/python3.10/dist-packages (from nbformat->notebook>=4.4.1->widgetsnbextension~=3.6.0->ipywidgets>=7.0.0->powerbiclient) (2.16.3)\n",
            "Requirement already satisfied: jsonschema>=2.6 in /usr/local/lib/python3.10/dist-packages (from nbformat->notebook>=4.4.1->widgetsnbextension~=3.6.0->ipywidgets>=7.0.0->powerbiclient) (4.3.3)\n",
            "Requirement already satisfied: attrs>=17.4.0 in /usr/local/lib/python3.10/dist-packages (from jsonschema>=2.6->nbformat->notebook>=4.4.1->widgetsnbextension~=3.6.0->ipywidgets>=7.0.0->powerbiclient) (23.1.0)\n",
            "Requirement already satisfied: pyrsistent!=0.17.0,!=0.17.1,!=0.17.2,>=0.14.0 in /usr/local/lib/python3.10/dist-packages (from jsonschema>=2.6->nbformat->notebook>=4.4.1->widgetsnbextension~=3.6.0->ipywidgets>=7.0.0->powerbiclient) (0.19.3)\n",
            "Requirement already satisfied: soupsieve>1.2 in /usr/local/lib/python3.10/dist-packages (from beautifulsoup4->nbconvert->notebook>=4.4.1->widgetsnbextension~=3.6.0->ipywidgets>=7.0.0->powerbiclient) (2.4.1)\n",
            "Requirement already satisfied: webencodings in /usr/local/lib/python3.10/dist-packages (from bleach->nbconvert->notebook>=4.4.1->widgetsnbextension~=3.6.0->ipywidgets>=7.0.0->powerbiclient) (0.5.1)\n"
          ]
        }
      ]
    },
    {
      "cell_type": "code",
      "source": [
        "from powerbiclient import Report, models\n",
        "from powerbiclient.authentication import DeviceCodeLoginAuthentication\n",
        "from google.colab import output"
      ],
      "metadata": {
        "id": "guOs6nrlss1K"
      },
      "execution_count": 21,
      "outputs": []
    },
    {
      "cell_type": "code",
      "source": [
        "# Import the DeviceCodeLoginAuthentication class to authenticate against Power BI and initiate the Micrsofot device authentication\n",
        "device_auth = DeviceCodeLoginAuthentication()"
      ],
      "metadata": {
        "id": "5TKFIiIUsuVx"
      },
      "execution_count": null,
      "outputs": []
    },
    {
      "cell_type": "code",
      "source": [
        "# Making sure we imported all required the libraries.\n",
        "from google.colab import files\n",
        "import io\n",
        "import json\n",
        "\n",
        "print(credentials)"
      ],
      "metadata": {
        "id": "5kbzNmdXaIxJ"
      },
      "execution_count": null,
      "outputs": []
    },
    {
      "cell_type": "code",
      "source": [
        "group_id=credentials[\"GROUP_ID\"] #THE POWER BI GROUP ID OR WORKSPACE ID\n",
        "report_id=credentials[\"REPORT_ID\"] #THE POWER BI REPORT ID\n",
        "\n",
        "report = Report(group_id=group_id, report_id=report_id, auth=device_auth)\n",
        "report.set_size(750, 1024)\n",
        "output.enable_custom_widget_manager()"
      ],
      "metadata": {
        "id": "P9-XmmygzG-T"
      },
      "execution_count": 24,
      "outputs": []
    },
    {
      "cell_type": "code",
      "source": [
        "# Show the power BI report.\n",
        "report"
      ],
      "metadata": {
        "colab": {
          "base_uri": "https://localhost:8080/",
          "height": 767,
          "referenced_widgets": [
            "e7d5cf21ebaf45c59f96a63d9438f24b",
            "8ab257ec7bd54b0d82e41591ad6d43a9"
          ]
        },
        "id": "MT2bFVMgy1Z3",
        "outputId": "d1519272-e82c-43ca-de40-f7fedccac2d1"
      },
      "execution_count": 25,
      "outputs": [
        {
          "output_type": "display_data",
          "data": {
            "text/plain": [
              "Report(container_height=750.0, container_width=1024.0)"
            ],
            "application/vnd.jupyter.widget-view+json": {
              "version_major": 2,
              "version_minor": 0,
              "model_id": "e7d5cf21ebaf45c59f96a63d9438f24b"
            }
          },
          "metadata": {
            "application/vnd.jupyter.widget-view+json": {
              "colab": {
                "custom_widget_manager": {
                  "url": "https://ssl.gstatic.com/colaboratory-static/widgets/colab-cdn-widget-manager/b3e629b1971e1542/manager.min.js"
                }
              }
            }
          }
        }
      ]
    },
    {
      "cell_type": "markdown",
      "source": [
        "Static image of report:\n",
        "\n",
        "![Hotel_visuals - Power BI.png](data:image/png;base64,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)"
      ],
      "metadata": {
        "id": "d7jeba6MnFca"
      }
    },
    {
      "cell_type": "code",
      "source": [],
      "metadata": {
        "id": "pZ_cvyQDqRwC"
      },
      "execution_count": null,
      "outputs": []
    }
  ]
}