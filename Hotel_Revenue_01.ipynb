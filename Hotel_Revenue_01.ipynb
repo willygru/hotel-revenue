{
  "nbformat": 4,
  "nbformat_minor": 0,
  "metadata": {
    "colab": {
      "provenance": [],
      "mount_file_id": "12p1pSuEOykzBQyEkbqUdkmWd-I6PcIgr",
      "authorship_tag": "ABX9TyPY+SdaKLijMebCgWI7SW2l",
      "include_colab_link": true
    },
    "kernelspec": {
      "name": "python3",
      "display_name": "Python 3"
    },
    "language_info": {
      "name": "python"
    },
    "widgets": {
      "application/vnd.jupyter.widget-state+json": {
        "e7d5cf21ebaf45c59f96a63d9438f24b": {
          "model_module": "powerbi-jupyter-client",
          "model_name": "ReportModel",
          "model_module_version": "3.0.0",
          "state": {
            "_client_error": "",
            "_dom_classes": [],
            "_embed_config": {
              "type": "report",
              "accessToken": "eyJ0eXAiOiJKV1QiLCJhbGciOiJSUzI1NiIsIng1dCI6Ii1LSTNROW5OUjdiUm9meG1lWm9YcWJIWkdldyIsImtpZCI6Ii1LSTNROW5OUjdiUm9meG1lWm9YcWJIWkdldyJ9.eyJhdWQiOiJodHRwczovL2FuYWx5c2lzLndpbmRvd3MubmV0L3Bvd2VyYmkvYXBpIiwiaXNzIjoiaHR0cHM6Ly9zdHMud2luZG93cy5uZXQvZTA0ZmM5MGQtZTFkYi00YmRmLWIxYjQtYTEzNzM5Mjg5YWZkLyIsImlhdCI6MTY4Mzg5MTgzNywibmJmIjoxNjgzODkxODM3LCJleHAiOjE2ODM4OTY5MjksImFjY3QiOjAsImFjciI6IjEiLCJhaW8iOiJBVlFBcS84VEFBQUFhS1hBUmVpdy9DWXlMcjJKdzF6K3A0dzFWSjhtTjg1QXNyMFlxdGNqcW9rNnovRVNmRFozaFJrTCtpQ2Y4ZG9qcFl2RFg5Myt1dXlnMHBpTjgrZHk2VEEvTnBkVzA3OXBiWHhpQXo4TkhHTT0iLCJhbXIiOlsicHdkIiwibWZhIl0sImFwcGlkIjoiMWFlYTNmOTctZWRjNi00NDUzLWE1OWItYjg4YjBiODAzNzExIiwiYXBwaWRhY3IiOiIwIiwiZmFtaWx5X25hbWUiOiJHcnVpbnRhbCBHYW1ib2EiLCJnaXZlbl9uYW1lIjoiV2lsbGlhbSBBbnRvbmlvIiwiaXBhZGRyIjoiMzQuMTI1LjMyLjIxNiIsIm5hbWUiOiJXaWxsaWFtIEFudG9uaW8gR3J1aW50YWwgR2FtYm9hIiwib2lkIjoiZGM5ZGJhNmQtZjI2My00NmY0LTljN2UtZTUwMjVjY2U5OTc1Iiwib25wcmVtX3NpZCI6IlMtMS01LTIxLTQyMDk0ODYxNTItNjY4OTkwOTctODI1ODU2MDMyLTY3NjIiLCJwdWlkIjoiMTAwMzNGRkZBOEUyRDkyQyIsInJoIjoiMC5BUmdBRGNsUDROdmgzMHV4dEtFM09TaWFfUWtBQUFBQUFBQUF3QUFBQUFBQUFBQVlBQ2MuIiwic2NwIjoiQ29udGVudC5DcmVhdGUgRGF0YXNldC5SZWFkV3JpdGUuQWxsIFJlcG9ydC5SZWFkV3JpdGUuQWxsIFdvcmtzcGFjZS5SZWFkLkFsbCIsInN1YiI6IjRRbTRxWWM4aE9NZWZBM3lHRWRMN21xWnBPemVaT3VoaV93dXg4SG9ZQ1EiLCJ0aWQiOiJlMDRmYzkwZC1lMWRiLTRiZGYtYjFiNC1hMTM3MzkyODlhZmQiLCJ1bmlxdWVfbmFtZSI6IndpbGxpYW0uZ3J1aW50YWxAYmx1ZW9jZWFudGVjaC5jb20ubXgiLCJ1cG4iOiJ3aWxsaWFtLmdydWludGFsQGJsdWVvY2VhbnRlY2guY29tLm14IiwidXRpIjoiS0VoNzhOSWlsVW1oVVJqUmRid1pBQSIsInZlciI6IjEuMCIsIndpZHMiOlsiYjc5ZmJmNGQtM2VmOS00Njg5LTgxNDMtNzZiMTk0ZTg1NTA5Il19.OKsnKLp8ncN2jTWq7ut1XsLYFlD3jg4M6rfboqwhpFf6dINlOt_-0WzPBCrCVAcA3Xm1DnO8HPhiLANS_k4i9C6G5VWAO6YXjl_7ZhRzvkG47V3TlIm8wO9KOETf3ISdJx8ezVIvMXLT_lMFmVeK5ZS9rw1E9eq2mJP7mKpOQWZAPERQOaeeASv6NCkiE189RI2dbiaBzhQCLkmrWiWrYSXeZsoLJPJcwsqo2WX90kQW84geLptm9p7uUH-r9ZpiQHtTySF1wi7ZAKvEAZXajF8ckCFMuLFpXUvXHHdEfdQBi-QneSNFY3cklmKn3d358o9f1epEaxhKfB0nnMQYgg",
              "embedUrl": "https://app.powerbi.com/reportEmbed?reportId=411adcb7-8732-441e-99c1-f4166493bdb3&groupId=4e958948-0c2b-4f25-b65c-b3571a8f37d4&w=2&config=eyJjbHVzdGVyVXJsIjoiaHR0cHM6Ly9XQUJJLVNPVVRILUNFTlRSQUwtVVMtcmVkaXJlY3QuYW5hbHlzaXMud2luZG93cy5uZXQiLCJlbWJlZEZlYXR1cmVzIjp7Im1vZGVybkVtYmVkIjp0cnVlLCJ1c2FnZU1ldHJpY3NWTmV4dCI6dHJ1ZX19",
              "tokenType": 0,
              "viewMode": 0,
              "permissions": null,
              "datasetId": null
            },
            "_embedded": true,
            "_event_data": {
              "event_name": "rendered",
              "event_details": null
            },
            "_export_visual_data_request": {
              "pageName": null,
              "visualName": null,
              "rows": null,
              "exportDataType": null
            },
            "_get_bookmarks_request": false,
            "_get_filters_request": false,
            "_get_pages_request": false,
            "_get_visuals_page_name": "",
            "_init_error": "",
            "_model_module": "powerbi-jupyter-client",
            "_model_module_version": "3.0.0",
            "_model_name": "ReportModel",
            "_page_visuals": [],
            "_report_bookmark_name": "",
            "_report_bookmarks": [],
            "_report_filters": [],
            "_report_filters_request": {
              "filters": [],
              "request_completed": true
            },
            "_report_pages": [],
            "_token_expired": false,
            "_view_count": null,
            "_view_module": "powerbi-jupyter-client",
            "_view_module_version": "3.0.0",
            "_view_name": "ReportView",
            "_visual_data": "",
            "container_height": 750,
            "container_width": 1024,
            "layout": "IPY_MODEL_8ab257ec7bd54b0d82e41591ad6d43a9"
          }
        },
        "8ab257ec7bd54b0d82e41591ad6d43a9": {
          "model_module": "@jupyter-widgets/base",
          "model_name": "LayoutModel",
          "model_module_version": "1.2.0",
          "state": {
            "_model_module": "@jupyter-widgets/base",
            "_model_module_version": "1.2.0",
            "_model_name": "LayoutModel",
            "_view_count": null,
            "_view_module": "@jupyter-widgets/base",
            "_view_module_version": "1.2.0",
            "_view_name": "LayoutView",
            "align_content": null,
            "align_items": null,
            "align_self": null,
            "border": null,
            "bottom": null,
            "display": null,
            "flex": null,
            "flex_flow": null,
            "grid_area": null,
            "grid_auto_columns": null,
            "grid_auto_flow": null,
            "grid_auto_rows": null,
            "grid_column": null,
            "grid_gap": null,
            "grid_row": null,
            "grid_template_areas": null,
            "grid_template_columns": null,
            "grid_template_rows": null,
            "height": null,
            "justify_content": null,
            "justify_items": null,
            "left": null,
            "margin": null,
            "max_height": null,
            "max_width": null,
            "min_height": null,
            "min_width": null,
            "object_fit": null,
            "object_position": null,
            "order": null,
            "overflow": null,
            "overflow_x": null,
            "overflow_y": null,
            "padding": null,
            "right": null,
            "top": null,
            "visibility": null,
            "width": null
          }
        }
      }
    }
  },
  "cells": [
    {
      "cell_type": "markdown",
      "metadata": {
        "id": "view-in-github",
        "colab_type": "text"
      },
      "source": [
        "<a href=\"https://colab.research.google.com/github/willygru/hotel-revenue/blob/main/Hotel_Revenue_01.ipynb\" target=\"_parent\"><img src=\"https://colab.research.google.com/assets/colab-badge.svg\" alt=\"Open In Colab\"/></a>"
      ]
    },
    {
      "cell_type": "code",
      "source": [
        "# !pip install openpyxl\n",
        "!pip install pandasql"
      ],
      "metadata": {
        "colab": {
          "base_uri": "https://localhost:8080/"
        },
        "id": "BRNWmWA2l0yH",
        "outputId": "71303048-774e-4c75-a9cb-5c7edf74fdd5"
      },
      "execution_count": 1,
      "outputs": [
        {
          "output_type": "stream",
          "name": "stdout",
          "text": [
            "Looking in indexes: https://pypi.org/simple, https://us-python.pkg.dev/colab-wheels/public/simple/\n",
            "Requirement already satisfied: pandasql in /usr/local/lib/python3.10/dist-packages (0.7.3)\n",
            "Requirement already satisfied: numpy in /usr/local/lib/python3.10/dist-packages (from pandasql) (1.22.4)\n",
            "Requirement already satisfied: pandas in /usr/local/lib/python3.10/dist-packages (from pandasql) (1.5.3)\n",
            "Requirement already satisfied: sqlalchemy in /usr/local/lib/python3.10/dist-packages (from pandasql) (2.0.10)\n",
            "Requirement already satisfied: python-dateutil>=2.8.1 in /usr/local/lib/python3.10/dist-packages (from pandas->pandasql) (2.8.2)\n",
            "Requirement already satisfied: pytz>=2020.1 in /usr/local/lib/python3.10/dist-packages (from pandas->pandasql) (2022.7.1)\n",
            "Requirement already satisfied: typing-extensions>=4.2.0 in /usr/local/lib/python3.10/dist-packages (from sqlalchemy->pandasql) (4.5.0)\n",
            "Requirement already satisfied: greenlet!=0.4.17 in /usr/local/lib/python3.10/dist-packages (from sqlalchemy->pandasql) (2.0.2)\n",
            "Requirement already satisfied: six>=1.5 in /usr/local/lib/python3.10/dist-packages (from python-dateutil>=2.8.1->pandas->pandasql) (1.16.0)\n"
          ]
        }
      ]
    },
    {
      "cell_type": "code",
      "execution_count": 2,
      "metadata": {
        "id": "yFE-gZGnvkvZ"
      },
      "outputs": [],
      "source": [
        "# Import the libraries.\n",
        "import sqlite3\n",
        "import requests\n",
        "import os\n",
        "import pandas as pd\n",
        "import pandasql as psql\n",
        "from google.colab import files\n",
        "import io\n",
        "import json"
      ]
    },
    {
      "cell_type": "code",
      "source": [
        "# Use files.upload to produce the \"Choose Files\" button below, then select your file.\n",
        "uploaded = files.upload()\n",
        "\n",
        "# Use io.BytesIO to decode the file, then json.load to open it.\n",
        "file = io.BytesIO(uploaded['Hotel_report_secrets.json'])\n",
        "credentials = json.load(file)\n",
        "\n",
        "print(credentials)"
      ],
      "metadata": {
        "id": "s6fdSFfQkDj5"
      },
      "execution_count": null,
      "outputs": []
    },
    {
      "cell_type": "code",
      "source": [
        "\n",
        "url = \"https://absentdata.com/wp-content/uploads/2021/05/hotel_revenue_historical_full-2.xlsx\"\n",
        "\n",
        "response = requests.get(url)\n",
        "\n",
        "with open(os.path.join(credentials[\"PATH\"], credentials[\"FILE_NAME\"]), \"wb\") as f:\n",
        "    f.write(response.content)"
      ],
      "metadata": {
        "id": "7cUWLQeRv2Cc"
      },
      "execution_count": 4,
      "outputs": []
    },
    {
      "cell_type": "code",
      "source": [
        "excel_file = os.path.join(credentials[\"PATH\"], credentials[\"FILE_NAME\"])\n",
        "sheets_dict = pd.read_excel(excel_file, sheet_name=None)"
      ],
      "metadata": {
        "id": "sVWrONYIici0"
      },
      "execution_count": 5,
      "outputs": []
    },
    {
      "cell_type": "code",
      "source": [
        "df1 = sheets_dict['2018']\n",
        "df2 = sheets_dict['2019']\n",
        "df3 = sheets_dict['2020']\n",
        "df4 = sheets_dict['meal_cost']\n",
        "df5 = sheets_dict['market_segment']"
      ],
      "metadata": {
        "id": "UnCEH-m-i-sd"
      },
      "execution_count": 6,
      "outputs": []
    },
    {
      "cell_type": "code",
      "source": [
        "df1.head(3)\n",
        "# del df"
      ],
      "metadata": {
        "colab": {
          "base_uri": "https://localhost:8080/",
          "height": 289
        },
        "id": "KVk7X9Y-v13F",
        "outputId": "0a61f9f3-5093-4b90-f7a8-fc8cc8c7954b"
      },
      "execution_count": 7,
      "outputs": [
        {
          "output_type": "execute_result",
          "data": {
            "text/plain": [
              "          hotel  is_canceled  lead_time  arrival_date_year arrival_date_month  \\\n",
              "0  Resort Hotel            1         85               2018               July   \n",
              "1  Resort Hotel            1         75               2018               July   \n",
              "2  Resort Hotel            1         23               2018               July   \n",
              "\n",
              "   arrival_date_week_number  arrival_date_day_of_month  \\\n",
              "0                        27                          1   \n",
              "1                        27                          1   \n",
              "2                        27                          1   \n",
              "\n",
              "   stays_in_weekend_nights  stays_in_week_nights  adults  ...  deposit_type  \\\n",
              "0                        0                     3       2  ...    No Deposit   \n",
              "1                        0                     3       2  ...    No Deposit   \n",
              "2                        0                     4       2  ...    No Deposit   \n",
              "\n",
              "   agent company days_in_waiting_list customer_type    adr  \\\n",
              "0  240.0     NaN                    0     Transient   82.0   \n",
              "1   15.0     NaN                    0     Transient  105.5   \n",
              "2  240.0     NaN                    0     Transient  123.0   \n",
              "\n",
              "   required_car_parking_spaces  total_of_special_requests  reservation_status  \\\n",
              "0                            0                          1            Canceled   \n",
              "1                            0                          0            Canceled   \n",
              "2                            0                          0            Canceled   \n",
              "\n",
              "  reservation_status_date  \n",
              "0              2018-05-06  \n",
              "1              2018-04-22  \n",
              "2              2018-06-23  \n",
              "\n",
              "[3 rows x 32 columns]"
            ],
            "text/html": [
              "\n",
              "  <div id=\"df-5c8fdd38-15d0-4fdf-b11b-93a2108e3fd5\">\n",
              "    <div class=\"colab-df-container\">\n",
              "      <div>\n",
              "<style scoped>\n",
              "    .dataframe tbody tr th:only-of-type {\n",
              "        vertical-align: middle;\n",
              "    }\n",
              "\n",
              "    .dataframe tbody tr th {\n",
              "        vertical-align: top;\n",
              "    }\n",
              "\n",
              "    .dataframe thead th {\n",
              "        text-align: right;\n",
              "    }\n",
              "</style>\n",
              "<table border=\"1\" class=\"dataframe\">\n",
              "  <thead>\n",
              "    <tr style=\"text-align: right;\">\n",
              "      <th></th>\n",
              "      <th>hotel</th>\n",
              "      <th>is_canceled</th>\n",
              "      <th>lead_time</th>\n",
              "      <th>arrival_date_year</th>\n",
              "      <th>arrival_date_month</th>\n",
              "      <th>arrival_date_week_number</th>\n",
              "      <th>arrival_date_day_of_month</th>\n",
              "      <th>stays_in_weekend_nights</th>\n",
              "      <th>stays_in_week_nights</th>\n",
              "      <th>adults</th>\n",
              "      <th>...</th>\n",
              "      <th>deposit_type</th>\n",
              "      <th>agent</th>\n",
              "      <th>company</th>\n",
              "      <th>days_in_waiting_list</th>\n",
              "      <th>customer_type</th>\n",
              "      <th>adr</th>\n",
              "      <th>required_car_parking_spaces</th>\n",
              "      <th>total_of_special_requests</th>\n",
              "      <th>reservation_status</th>\n",
              "      <th>reservation_status_date</th>\n",
              "    </tr>\n",
              "  </thead>\n",
              "  <tbody>\n",
              "    <tr>\n",
              "      <th>0</th>\n",
              "      <td>Resort Hotel</td>\n",
              "      <td>1</td>\n",
              "      <td>85</td>\n",
              "      <td>2018</td>\n",
              "      <td>July</td>\n",
              "      <td>27</td>\n",
              "      <td>1</td>\n",
              "      <td>0</td>\n",
              "      <td>3</td>\n",
              "      <td>2</td>\n",
              "      <td>...</td>\n",
              "      <td>No Deposit</td>\n",
              "      <td>240.0</td>\n",
              "      <td>NaN</td>\n",
              "      <td>0</td>\n",
              "      <td>Transient</td>\n",
              "      <td>82.0</td>\n",
              "      <td>0</td>\n",
              "      <td>1</td>\n",
              "      <td>Canceled</td>\n",
              "      <td>2018-05-06</td>\n",
              "    </tr>\n",
              "    <tr>\n",
              "      <th>1</th>\n",
              "      <td>Resort Hotel</td>\n",
              "      <td>1</td>\n",
              "      <td>75</td>\n",
              "      <td>2018</td>\n",
              "      <td>July</td>\n",
              "      <td>27</td>\n",
              "      <td>1</td>\n",
              "      <td>0</td>\n",
              "      <td>3</td>\n",
              "      <td>2</td>\n",
              "      <td>...</td>\n",
              "      <td>No Deposit</td>\n",
              "      <td>15.0</td>\n",
              "      <td>NaN</td>\n",
              "      <td>0</td>\n",
              "      <td>Transient</td>\n",
              "      <td>105.5</td>\n",
              "      <td>0</td>\n",
              "      <td>0</td>\n",
              "      <td>Canceled</td>\n",
              "      <td>2018-04-22</td>\n",
              "    </tr>\n",
              "    <tr>\n",
              "      <th>2</th>\n",
              "      <td>Resort Hotel</td>\n",
              "      <td>1</td>\n",
              "      <td>23</td>\n",
              "      <td>2018</td>\n",
              "      <td>July</td>\n",
              "      <td>27</td>\n",
              "      <td>1</td>\n",
              "      <td>0</td>\n",
              "      <td>4</td>\n",
              "      <td>2</td>\n",
              "      <td>...</td>\n",
              "      <td>No Deposit</td>\n",
              "      <td>240.0</td>\n",
              "      <td>NaN</td>\n",
              "      <td>0</td>\n",
              "      <td>Transient</td>\n",
              "      <td>123.0</td>\n",
              "      <td>0</td>\n",
              "      <td>0</td>\n",
              "      <td>Canceled</td>\n",
              "      <td>2018-06-23</td>\n",
              "    </tr>\n",
              "  </tbody>\n",
              "</table>\n",
              "<p>3 rows × 32 columns</p>\n",
              "</div>\n",
              "      <button class=\"colab-df-convert\" onclick=\"convertToInteractive('df-5c8fdd38-15d0-4fdf-b11b-93a2108e3fd5')\"\n",
              "              title=\"Convert this dataframe to an interactive table.\"\n",
              "              style=\"display:none;\">\n",
              "        \n",
              "  <svg xmlns=\"http://www.w3.org/2000/svg\" height=\"24px\"viewBox=\"0 0 24 24\"\n",
              "       width=\"24px\">\n",
              "    <path d=\"M0 0h24v24H0V0z\" fill=\"none\"/>\n",
              "    <path d=\"M18.56 5.44l.94 2.06.94-2.06 2.06-.94-2.06-.94-.94-2.06-.94 2.06-2.06.94zm-11 1L8.5 8.5l.94-2.06 2.06-.94-2.06-.94L8.5 2.5l-.94 2.06-2.06.94zm10 10l.94 2.06.94-2.06 2.06-.94-2.06-.94-.94-2.06-.94 2.06-2.06.94z\"/><path d=\"M17.41 7.96l-1.37-1.37c-.4-.4-.92-.59-1.43-.59-.52 0-1.04.2-1.43.59L10.3 9.45l-7.72 7.72c-.78.78-.78 2.05 0 2.83L4 21.41c.39.39.9.59 1.41.59.51 0 1.02-.2 1.41-.59l7.78-7.78 2.81-2.81c.8-.78.8-2.07 0-2.86zM5.41 20L4 18.59l7.72-7.72 1.47 1.35L5.41 20z\"/>\n",
              "  </svg>\n",
              "      </button>\n",
              "      \n",
              "  <style>\n",
              "    .colab-df-container {\n",
              "      display:flex;\n",
              "      flex-wrap:wrap;\n",
              "      gap: 12px;\n",
              "    }\n",
              "\n",
              "    .colab-df-convert {\n",
              "      background-color: #E8F0FE;\n",
              "      border: none;\n",
              "      border-radius: 50%;\n",
              "      cursor: pointer;\n",
              "      display: none;\n",
              "      fill: #1967D2;\n",
              "      height: 32px;\n",
              "      padding: 0 0 0 0;\n",
              "      width: 32px;\n",
              "    }\n",
              "\n",
              "    .colab-df-convert:hover {\n",
              "      background-color: #E2EBFA;\n",
              "      box-shadow: 0px 1px 2px rgba(60, 64, 67, 0.3), 0px 1px 3px 1px rgba(60, 64, 67, 0.15);\n",
              "      fill: #174EA6;\n",
              "    }\n",
              "\n",
              "    [theme=dark] .colab-df-convert {\n",
              "      background-color: #3B4455;\n",
              "      fill: #D2E3FC;\n",
              "    }\n",
              "\n",
              "    [theme=dark] .colab-df-convert:hover {\n",
              "      background-color: #434B5C;\n",
              "      box-shadow: 0px 1px 3px 1px rgba(0, 0, 0, 0.15);\n",
              "      filter: drop-shadow(0px 1px 2px rgba(0, 0, 0, 0.3));\n",
              "      fill: #FFFFFF;\n",
              "    }\n",
              "  </style>\n",
              "\n",
              "      <script>\n",
              "        const buttonEl =\n",
              "          document.querySelector('#df-5c8fdd38-15d0-4fdf-b11b-93a2108e3fd5 button.colab-df-convert');\n",
              "        buttonEl.style.display =\n",
              "          google.colab.kernel.accessAllowed ? 'block' : 'none';\n",
              "\n",
              "        async function convertToInteractive(key) {\n",
              "          const element = document.querySelector('#df-5c8fdd38-15d0-4fdf-b11b-93a2108e3fd5');\n",
              "          const dataTable =\n",
              "            await google.colab.kernel.invokeFunction('convertToInteractive',\n",
              "                                                     [key], {});\n",
              "          if (!dataTable) return;\n",
              "\n",
              "          const docLinkHtml = 'Like what you see? Visit the ' +\n",
              "            '<a target=\"_blank\" href=https://colab.research.google.com/notebooks/data_table.ipynb>data table notebook</a>'\n",
              "            + ' to learn more about interactive tables.';\n",
              "          element.innerHTML = '';\n",
              "          dataTable['output_type'] = 'display_data';\n",
              "          await google.colab.output.renderOutput(dataTable, element);\n",
              "          const docLink = document.createElement('div');\n",
              "          docLink.innerHTML = docLinkHtml;\n",
              "          element.appendChild(docLink);\n",
              "        }\n",
              "      </script>\n",
              "    </div>\n",
              "  </div>\n",
              "  "
            ]
          },
          "metadata": {},
          "execution_count": 7
        }
      ]
    },
    {
      "cell_type": "code",
      "source": [
        "columns = df1.columns#.tolist()\n",
        "print(columns)"
      ],
      "metadata": {
        "colab": {
          "base_uri": "https://localhost:8080/"
        },
        "id": "0YaCjx4xrF3R",
        "outputId": "8dff7e6b-6277-4375-f3bc-97b6dd3a53e8"
      },
      "execution_count": 8,
      "outputs": [
        {
          "output_type": "stream",
          "name": "stdout",
          "text": [
            "Index(['hotel', 'is_canceled', 'lead_time', 'arrival_date_year',\n",
            "       'arrival_date_month', 'arrival_date_week_number',\n",
            "       'arrival_date_day_of_month', 'stays_in_weekend_nights',\n",
            "       'stays_in_week_nights', 'adults', 'children', 'babies', 'meal',\n",
            "       'country', 'market_segment', 'distribution_channel',\n",
            "       'is_repeated_guest', 'previous_cancellations',\n",
            "       'previous_bookings_not_canceled', 'reserved_room_type',\n",
            "       'assigned_room_type', 'booking_changes', 'deposit_type', 'agent',\n",
            "       'company', 'days_in_waiting_list', 'customer_type', 'adr',\n",
            "       'required_car_parking_spaces', 'total_of_special_requests',\n",
            "       'reservation_status', 'reservation_status_date'],\n",
            "      dtype='object')\n"
          ]
        }
      ]
    },
    {
      "cell_type": "code",
      "source": [
        "# conn = sqlite3.connect(':memory:')\n",
        "conn = sqlite3.connect(credentials[\"PATH\"] + 'hotel_database.db')\n"
      ],
      "metadata": {
        "id": "vYLvoQuNv1uW"
      },
      "execution_count": 9,
      "outputs": []
    },
    {
      "cell_type": "code",
      "source": [
        "df1.to_sql('df1', conn, index=False, if_exists='replace')\n",
        "df2.to_sql('df2', conn, index=False, if_exists='replace')\n",
        "df3.to_sql('df3', conn, index=False, if_exists='replace')\n",
        "df4.to_sql('df4', conn, index=False, if_exists='replace')\n",
        "df5.to_sql('df5', conn, index=False, if_exists='replace')"
      ],
      "metadata": {
        "id": "WrzdP2hZv1Zs",
        "colab": {
          "base_uri": "https://localhost:8080/"
        },
        "outputId": "e0177f3d-070a-45d2-a297-6f8b7627554c"
      },
      "execution_count": 10,
      "outputs": [
        {
          "output_type": "execute_result",
          "data": {
            "text/plain": [
              "8"
            ]
          },
          "metadata": {},
          "execution_count": 10
        }
      ]
    },
    {
      "cell_type": "code",
      "source": [
        "def run_query(query):\n",
        "  return pd.read_sql_query(query, conn)"
      ],
      "metadata": {
        "id": "x8UNj6ozv1pc"
      },
      "execution_count": 11,
      "outputs": []
    },
    {
      "cell_type": "code",
      "source": [
        "query = \"\"\"\n",
        "WITH hotels as\n",
        "(SELECT * FROM df1\n",
        "UNION\n",
        "SELECT * FROM df2\n",
        "UNION\n",
        "SELECT * FROM df3)\n",
        "SELECT * FROM hotels\n",
        "\"\"\"\n",
        "\n",
        "result = run_query(query)\n",
        "print(result)"
      ],
      "metadata": {
        "id": "XWV5LkHav1UJ",
        "colab": {
          "base_uri": "https://localhost:8080/"
        },
        "outputId": "9449891e-1118-4f0d-c1c1-64b0cd45a969"
      },
      "execution_count": 12,
      "outputs": [
        {
          "output_type": "stream",
          "name": "stdout",
          "text": [
            "               hotel  is_canceled  lead_time  arrival_date_year  \\\n",
            "0         City Hotel            0          0               2018   \n",
            "1         City Hotel            0          0               2018   \n",
            "2         City Hotel            0          0               2018   \n",
            "3         City Hotel            0          0               2018   \n",
            "4         City Hotel            0          0               2018   \n",
            "...              ...          ...        ...                ...   \n",
            "100751  Resort Hotel            1        468               2019   \n",
            "100752  Resort Hotel            1        468               2019   \n",
            "100753  Resort Hotel            1        468               2019   \n",
            "100754  Resort Hotel            1        468               2019   \n",
            "100755  Resort Hotel            1        471               2020   \n",
            "\n",
            "       arrival_date_month  arrival_date_week_number  \\\n",
            "0                  August                        31   \n",
            "1                  August                        32   \n",
            "2                  August                        32   \n",
            "3                  August                        32   \n",
            "4                  August                        32   \n",
            "...                   ...                       ...   \n",
            "100751                May                        20   \n",
            "100752                May                        20   \n",
            "100753                May                        20   \n",
            "100754                May                        20   \n",
            "100755                May                        20   \n",
            "\n",
            "        arrival_date_day_of_month  stays_in_weekend_nights  \\\n",
            "0                               1                        0   \n",
            "1                               3                        1   \n",
            "2                               3                        1   \n",
            "3                               3                        1   \n",
            "4                               4                        0   \n",
            "...                           ...                      ...   \n",
            "100751                         12                        0   \n",
            "100752                         12                        0   \n",
            "100753                         12                        0   \n",
            "100754                         12                        0   \n",
            "100755                         20                        2   \n",
            "\n",
            "        stays_in_week_nights  adults  ...  deposit_type  agent company  \\\n",
            "0                          1       2  ...    No Deposit    NaN     NaN   \n",
            "1                          0       2  ...    No Deposit    NaN     NaN   \n",
            "2                          0       2  ...    No Deposit    NaN     NaN   \n",
            "3                          2       1  ...    No Deposit    NaN    40.0   \n",
            "4                          1       2  ...    No Deposit    9.0     NaN   \n",
            "...                      ...     ...  ...           ...    ...     ...   \n",
            "100751                     2       2  ...    No Deposit  249.0     NaN   \n",
            "100752                     2       2  ...    No Deposit  249.0     NaN   \n",
            "100753                     2       2  ...    No Deposit  249.0     NaN   \n",
            "100754                     2       2  ...    No Deposit  249.0     NaN   \n",
            "100755                     5       2  ...    Non Refund   96.0     NaN   \n",
            "\n",
            "       days_in_waiting_list    customer_type   adr  \\\n",
            "0                         0        Transient  75.0   \n",
            "1                         0        Transient   0.0   \n",
            "2                         0        Transient   0.0   \n",
            "3                         0            Group  65.0   \n",
            "4                         0        Transient  90.0   \n",
            "...                     ...              ...   ...   \n",
            "100751                    0  Transient-Party  67.0   \n",
            "100752                    0  Transient-Party  26.0   \n",
            "100753                    0  Transient-Party  67.0   \n",
            "100754                    0  Transient-Party  67.0   \n",
            "100755                    0        Transient  47.0   \n",
            "\n",
            "        required_car_parking_spaces  total_of_special_requests  \\\n",
            "0                                 0                          0   \n",
            "1                                 0                          0   \n",
            "2                                 0                          0   \n",
            "3                                 0                          0   \n",
            "4                                 0                          0   \n",
            "...                             ...                        ...   \n",
            "100751                            0                          0   \n",
            "100752                            0                          0   \n",
            "100753                            0                          0   \n",
            "100754                            0                          0   \n",
            "100755                            0                          0   \n",
            "\n",
            "        reservation_status reservation_status_date  \n",
            "0                Check-Out     2018-08-02 00:00:00  \n",
            "1                Check-Out     2018-08-04 00:00:00  \n",
            "2                Check-Out     2018-08-04 00:00:00  \n",
            "3                Check-Out     2018-08-06 00:00:00  \n",
            "4                Check-Out     2018-08-05 00:00:00  \n",
            "...                    ...                     ...  \n",
            "100751            Canceled     2019-03-04 00:00:00  \n",
            "100752            Canceled     2019-05-03 00:00:00  \n",
            "100753            Canceled     2019-05-03 00:00:00  \n",
            "100754            Canceled     2018-07-30 00:00:00  \n",
            "100755            Canceled     2020-05-03 00:00:00  \n",
            "\n",
            "[100756 rows x 32 columns]\n"
          ]
        }
      ]
    },
    {
      "cell_type": "code",
      "source": [
        "#Revenue here does not include discount \n",
        "query = \"\"\"\n",
        "WITH hotels as\n",
        "(SELECT * FROM df1\n",
        "UNION\n",
        "SELECT * FROM df2\n",
        "UNION\n",
        "SELECT * FROM df3)\n",
        "\n",
        "SELECT \n",
        "arrival_date_year,\n",
        "hotel,\n",
        "ROUND(SUM((stays_in_weekend_nights + stays_in_week_nights) * adr),1) as revenue  \n",
        "FROM hotels\n",
        "GROUP BY hotel, arrival_date_year\n",
        "\"\"\"\n",
        "\n",
        "result = run_query(query)\n",
        "print(result)"
      ],
      "metadata": {
        "id": "8M6M2BSvv1Nc",
        "colab": {
          "base_uri": "https://localhost:8080/"
        },
        "outputId": "fcbc24d0-fd88-428c-af91-c958328242d3"
      },
      "execution_count": 13,
      "outputs": [
        {
          "output_type": "stream",
          "name": "stdout",
          "text": [
            "   arrival_date_year         hotel     revenue\n",
            "0               2018    City Hotel   1764667.6\n",
            "1               2019    City Hotel  10755979.1\n",
            "2               2020    City Hotel   8018122.4\n",
            "3               2018  Resort Hotel   3120849.5\n",
            "4               2019  Resort Hotel   9432430.3\n",
            "5               2020  Resort Hotel   6266123.8\n"
          ]
        }
      ]
    },
    {
      "cell_type": "code",
      "source": [
        "query = \"\"\"\n",
        "SELECT * FROM df5\n",
        "\"\"\"\n",
        "\n",
        "result = run_query(query)\n",
        "print(result)"
      ],
      "metadata": {
        "id": "t-9LuN5Bv1DQ",
        "colab": {
          "base_uri": "https://localhost:8080/"
        },
        "outputId": "7da971b8-9217-41c4-8297-86cac7d8c532"
      },
      "execution_count": 14,
      "outputs": [
        {
          "output_type": "stream",
          "name": "stdout",
          "text": [
            "   Discount market_segment\n",
            "0      0.00      Undefined\n",
            "1      0.10         Direct\n",
            "2      0.10         Groups\n",
            "3      0.15      Corporate\n",
            "4      0.20       Aviation\n",
            "5      0.30  Offline TA/TO\n",
            "6      0.30      Online TA\n",
            "7      1.00  Complementary\n"
          ]
        }
      ]
    },
    {
      "cell_type": "code",
      "source": [
        "query = \"\"\"\n",
        "WITH hotels as\n",
        "(SELECT * FROM df1\n",
        "UNION\n",
        "SELECT * FROM df2\n",
        "UNION\n",
        "SELECT * FROM df3)\n",
        "\n",
        "SELECT * FROM hotels\n",
        "LEFT JOIN df5 \n",
        "ON hotels.market_segment = df5.market_segment\n",
        "\"\"\"\n",
        "\n",
        "result = run_query(query)\n",
        "print(result)"
      ],
      "metadata": {
        "id": "XAoTw-Wevz_h",
        "colab": {
          "base_uri": "https://localhost:8080/"
        },
        "outputId": "7351f016-dbc0-48ed-abd0-993f7a56cf43"
      },
      "execution_count": 15,
      "outputs": [
        {
          "output_type": "stream",
          "name": "stdout",
          "text": [
            "               hotel  is_canceled  lead_time  arrival_date_year  \\\n",
            "0         City Hotel            0          0               2018   \n",
            "1         City Hotel            0          0               2018   \n",
            "2         City Hotel            0          0               2018   \n",
            "3         City Hotel            0          0               2018   \n",
            "4         City Hotel            0          0               2018   \n",
            "...              ...          ...        ...                ...   \n",
            "100751  Resort Hotel            1        468               2019   \n",
            "100752  Resort Hotel            1        468               2019   \n",
            "100753  Resort Hotel            1        468               2019   \n",
            "100754  Resort Hotel            1        468               2019   \n",
            "100755  Resort Hotel            1        471               2020   \n",
            "\n",
            "       arrival_date_month  arrival_date_week_number  \\\n",
            "0                  August                        31   \n",
            "1                  August                        32   \n",
            "2                  August                        32   \n",
            "3                  August                        32   \n",
            "4                  August                        32   \n",
            "...                   ...                       ...   \n",
            "100751                May                        20   \n",
            "100752                May                        20   \n",
            "100753                May                        20   \n",
            "100754                May                        20   \n",
            "100755                May                        20   \n",
            "\n",
            "        arrival_date_day_of_month  stays_in_weekend_nights  \\\n",
            "0                               1                        0   \n",
            "1                               3                        1   \n",
            "2                               3                        1   \n",
            "3                               3                        1   \n",
            "4                               4                        0   \n",
            "...                           ...                      ...   \n",
            "100751                         12                        0   \n",
            "100752                         12                        0   \n",
            "100753                         12                        0   \n",
            "100754                         12                        0   \n",
            "100755                         20                        2   \n",
            "\n",
            "        stays_in_week_nights  adults  ...  company  days_in_waiting_list  \\\n",
            "0                          1       2  ...      NaN                     0   \n",
            "1                          0       2  ...      NaN                     0   \n",
            "2                          0       2  ...      NaN                     0   \n",
            "3                          2       1  ...     40.0                     0   \n",
            "4                          1       2  ...      NaN                     0   \n",
            "...                      ...     ...  ...      ...                   ...   \n",
            "100751                     2       2  ...      NaN                     0   \n",
            "100752                     2       2  ...      NaN                     0   \n",
            "100753                     2       2  ...      NaN                     0   \n",
            "100754                     2       2  ...      NaN                     0   \n",
            "100755                     5       2  ...      NaN                     0   \n",
            "\n",
            "          customer_type   adr required_car_parking_spaces  \\\n",
            "0             Transient  75.0                           0   \n",
            "1             Transient   0.0                           0   \n",
            "2             Transient   0.0                           0   \n",
            "3                 Group  65.0                           0   \n",
            "4             Transient  90.0                           0   \n",
            "...                 ...   ...                         ...   \n",
            "100751  Transient-Party  67.0                           0   \n",
            "100752  Transient-Party  26.0                           0   \n",
            "100753  Transient-Party  67.0                           0   \n",
            "100754  Transient-Party  67.0                           0   \n",
            "100755        Transient  47.0                           0   \n",
            "\n",
            "       total_of_special_requests  reservation_status  reservation_status_date  \\\n",
            "0                              0           Check-Out      2018-08-02 00:00:00   \n",
            "1                              0           Check-Out      2018-08-04 00:00:00   \n",
            "2                              0           Check-Out      2018-08-04 00:00:00   \n",
            "3                              0           Check-Out      2018-08-06 00:00:00   \n",
            "4                              0           Check-Out      2018-08-05 00:00:00   \n",
            "...                          ...                 ...                      ...   \n",
            "100751                         0            Canceled      2019-03-04 00:00:00   \n",
            "100752                         0            Canceled      2019-05-03 00:00:00   \n",
            "100753                         0            Canceled      2019-05-03 00:00:00   \n",
            "100754                         0            Canceled      2018-07-30 00:00:00   \n",
            "100755                         0            Canceled      2020-05-03 00:00:00   \n",
            "\n",
            "        Discount market_segment  \n",
            "0           0.10         Direct  \n",
            "1           1.00  Complementary  \n",
            "2           1.00  Complementary  \n",
            "3           0.15      Corporate  \n",
            "4           0.30      Online TA  \n",
            "...          ...            ...  \n",
            "100751      0.10         Groups  \n",
            "100752      0.10         Groups  \n",
            "100753      0.10         Groups  \n",
            "100754      0.10         Groups  \n",
            "100755      0.10         Groups  \n",
            "\n",
            "[100756 rows x 34 columns]\n"
          ]
        }
      ]
    },
    {
      "cell_type": "code",
      "source": [
        "query = \"\"\"\n",
        "WITH hotels as\n",
        "(SELECT * FROM df1\n",
        "UNION\n",
        "SELECT * FROM df2\n",
        "UNION\n",
        "SELECT * FROM df3)\n",
        "\n",
        "SELECT * FROM hotels\n",
        "LEFT JOIN df5 \n",
        "ON hotels.market_segment = df5.market_segment\n",
        "\"\"\"\n",
        "\n",
        "result = run_query(query)\n",
        "columns = result.columns#.tolist()\n",
        "print(columns)"
      ],
      "metadata": {
        "id": "QXGkdpsbvvH7",
        "colab": {
          "base_uri": "https://localhost:8080/"
        },
        "outputId": "26bfc033-05b7-4f85-b72a-77ffd281ed4b"
      },
      "execution_count": 16,
      "outputs": [
        {
          "output_type": "stream",
          "name": "stdout",
          "text": [
            "Index(['hotel', 'is_canceled', 'lead_time', 'arrival_date_year',\n",
            "       'arrival_date_month', 'arrival_date_week_number',\n",
            "       'arrival_date_day_of_month', 'stays_in_weekend_nights',\n",
            "       'stays_in_week_nights', 'adults', 'children', 'babies', 'meal',\n",
            "       'country', 'market_segment', 'distribution_channel',\n",
            "       'is_repeated_guest', 'previous_cancellations',\n",
            "       'previous_bookings_not_canceled', 'reserved_room_type',\n",
            "       'assigned_room_type', 'booking_changes', 'deposit_type', 'agent',\n",
            "       'company', 'days_in_waiting_list', 'customer_type', 'adr',\n",
            "       'required_car_parking_spaces', 'total_of_special_requests',\n",
            "       'reservation_status', 'reservation_status_date', 'Discount',\n",
            "       'market_segment'],\n",
            "      dtype='object')\n"
          ]
        }
      ]
    },
    {
      "cell_type": "code",
      "source": [
        "query = \"\"\"\n",
        "WITH hotels as\n",
        "(SELECT * FROM df1\n",
        "UNION\n",
        "SELECT * FROM df2\n",
        "UNION\n",
        "SELECT * FROM df3)\n",
        "\n",
        "SELECT * FROM hotels\n",
        "LEFT JOIN df5 \n",
        "ON hotels.market_segment = df5.market_segment\n",
        "\"\"\"\n",
        "\n",
        "result = run_query(query)\n",
        "# columns = result.columns#.tolist()\n",
        "# print(columns)\n",
        "\n",
        "desired_column = result[[\"market_segment\", \"Discount\"]]\n",
        "print(desired_column.isnull().any())"
      ],
      "metadata": {
        "colab": {
          "base_uri": "https://localhost:8080/"
        },
        "outputId": "da1393cd-710b-4e85-e5cf-6eaf3fab4b77",
        "id": "TrhJaLfa5CR9"
      },
      "execution_count": 17,
      "outputs": [
        {
          "output_type": "stream",
          "name": "stdout",
          "text": [
            "market_segment    False\n",
            "market_segment    False\n",
            "Discount          False\n",
            "dtype: bool\n"
          ]
        }
      ]
    },
    {
      "cell_type": "code",
      "source": [
        "query = \"\"\"\n",
        "SELECT * FROM df4\n",
        "\"\"\"\n",
        "\n",
        "result = run_query(query)\n",
        "print(result)"
      ],
      "metadata": {
        "colab": {
          "base_uri": "https://localhost:8080/"
        },
        "id": "nUDSS5UT3Urj",
        "outputId": "2d2a5b7f-fd97-4772-85bf-b4ee7c91eb9c"
      },
      "execution_count": 18,
      "outputs": [
        {
          "output_type": "stream",
          "name": "stdout",
          "text": [
            "    Cost       meal\n",
            "0   0.00  Undefined\n",
            "1  12.99         BB\n",
            "2  17.99         HB\n",
            "3  21.99         FB\n",
            "4  35.00         SC\n"
          ]
        }
      ]
    },
    {
      "cell_type": "code",
      "source": [
        "query = \"\"\"\n",
        "WITH hotels as\n",
        "(SELECT * FROM df1\n",
        "UNION\n",
        "SELECT * FROM df2\n",
        "UNION\n",
        "SELECT * FROM df3)\n",
        "\n",
        "SELECT * FROM hotels\n",
        "LEFT JOIN df5 \n",
        "ON hotels.market_segment = df5.market_segment\n",
        "LEFT JOIN df4\n",
        "ON hotels.meal = df4.meal\n",
        "\"\"\"\n",
        "\n",
        "result = run_query(query)\n",
        "columns = result.columns#.tolist()\n",
        "print(columns)\n",
        "\n",
        "desired_column = result[[\"meal\", \"Cost\"]]\n",
        "print(desired_column.isnull().any())"
      ],
      "metadata": {
        "colab": {
          "base_uri": "https://localhost:8080/"
        },
        "id": "tKX56TF65ORS",
        "outputId": "7076b8ae-0268-4f73-854b-c84eef7ab904"
      },
      "execution_count": 19,
      "outputs": [
        {
          "output_type": "stream",
          "name": "stdout",
          "text": [
            "Index(['hotel', 'is_canceled', 'lead_time', 'arrival_date_year',\n",
            "       'arrival_date_month', 'arrival_date_week_number',\n",
            "       'arrival_date_day_of_month', 'stays_in_weekend_nights',\n",
            "       'stays_in_week_nights', 'adults', 'children', 'babies', 'meal',\n",
            "       'country', 'market_segment', 'distribution_channel',\n",
            "       'is_repeated_guest', 'previous_cancellations',\n",
            "       'previous_bookings_not_canceled', 'reserved_room_type',\n",
            "       'assigned_room_type', 'booking_changes', 'deposit_type', 'agent',\n",
            "       'company', 'days_in_waiting_list', 'customer_type', 'adr',\n",
            "       'required_car_parking_spaces', 'total_of_special_requests',\n",
            "       'reservation_status', 'reservation_status_date', 'Discount',\n",
            "       'market_segment', 'Cost', 'meal'],\n",
            "      dtype='object')\n",
            "meal    False\n",
            "meal    False\n",
            "Cost    False\n",
            "dtype: bool\n"
          ]
        }
      ]
    },
    {
      "cell_type": "code",
      "source": [
        "!pip install powerbiclient"
      ],
      "metadata": {
        "id": "1ptCrBuV9Sga",
        "colab": {
          "base_uri": "https://localhost:8080/"
        },
        "outputId": "cc6de2ed-1baf-451a-c6d6-539f97036f2c"
      },
      "execution_count": 20,
      "outputs": [
        {
          "output_type": "stream",
          "name": "stdout",
          "text": [
            "Looking in indexes: https://pypi.org/simple, https://us-python.pkg.dev/colab-wheels/public/simple/\n",
            "Requirement already satisfied: powerbiclient in /usr/local/lib/python3.10/dist-packages (3.0.0)\n",
            "Requirement already satisfied: ipywidgets>=7.0.0 in /usr/local/lib/python3.10/dist-packages (from powerbiclient) (7.7.1)\n",
            "Requirement already satisfied: jupyter-ui-poll>=0.1.2 in /usr/local/lib/python3.10/dist-packages (from powerbiclient) (0.2.2)\n",
            "Requirement already satisfied: msal>=1.8.0 in /usr/local/lib/python3.10/dist-packages (from powerbiclient) (1.22.0)\n",
            "Requirement already satisfied: requests>=2.25.1 in /usr/local/lib/python3.10/dist-packages (from powerbiclient) (2.27.1)\n",
            "Requirement already satisfied: pandas in /usr/local/lib/python3.10/dist-packages (from powerbiclient) (1.5.3)\n",
            "Requirement already satisfied: ipykernel>=4.5.1 in /usr/local/lib/python3.10/dist-packages (from ipywidgets>=7.0.0->powerbiclient) (5.5.6)\n",
            "Requirement already satisfied: ipython-genutils~=0.2.0 in /usr/local/lib/python3.10/dist-packages (from ipywidgets>=7.0.0->powerbiclient) (0.2.0)\n",
            "Requirement already satisfied: traitlets>=4.3.1 in /usr/local/lib/python3.10/dist-packages (from ipywidgets>=7.0.0->powerbiclient) (5.7.1)\n",
            "Requirement already satisfied: widgetsnbextension~=3.6.0 in /usr/local/lib/python3.10/dist-packages (from ipywidgets>=7.0.0->powerbiclient) (3.6.4)\n",
            "Requirement already satisfied: ipython>=4.0.0 in /usr/local/lib/python3.10/dist-packages (from ipywidgets>=7.0.0->powerbiclient) (7.34.0)\n",
            "Requirement already satisfied: jupyterlab-widgets>=1.0.0 in /usr/local/lib/python3.10/dist-packages (from ipywidgets>=7.0.0->powerbiclient) (3.0.7)\n",
            "Requirement already satisfied: PyJWT[crypto]<3,>=1.0.0 in /usr/local/lib/python3.10/dist-packages (from msal>=1.8.0->powerbiclient) (2.7.0)\n",
            "Requirement already satisfied: cryptography<43,>=0.6 in /usr/local/lib/python3.10/dist-packages (from msal>=1.8.0->powerbiclient) (40.0.2)\n",
            "Requirement already satisfied: urllib3<1.27,>=1.21.1 in /usr/local/lib/python3.10/dist-packages (from requests>=2.25.1->powerbiclient) (1.26.15)\n",
            "Requirement already satisfied: certifi>=2017.4.17 in /usr/local/lib/python3.10/dist-packages (from requests>=2.25.1->powerbiclient) (2022.12.7)\n",
            "Requirement already satisfied: charset-normalizer~=2.0.0 in /usr/local/lib/python3.10/dist-packages (from requests>=2.25.1->powerbiclient) (2.0.12)\n",
            "Requirement already satisfied: idna<4,>=2.5 in /usr/local/lib/python3.10/dist-packages (from requests>=2.25.1->powerbiclient) (3.4)\n",
            "Requirement already satisfied: python-dateutil>=2.8.1 in /usr/local/lib/python3.10/dist-packages (from pandas->powerbiclient) (2.8.2)\n",
            "Requirement already satisfied: pytz>=2020.1 in /usr/local/lib/python3.10/dist-packages (from pandas->powerbiclient) (2022.7.1)\n",
            "Requirement already satisfied: numpy>=1.21.0 in /usr/local/lib/python3.10/dist-packages (from pandas->powerbiclient) (1.22.4)\n",
            "Requirement already satisfied: cffi>=1.12 in /usr/local/lib/python3.10/dist-packages (from cryptography<43,>=0.6->msal>=1.8.0->powerbiclient) (1.15.1)\n",
            "Requirement already satisfied: jupyter-client in /usr/local/lib/python3.10/dist-packages (from ipykernel>=4.5.1->ipywidgets>=7.0.0->powerbiclient) (6.1.12)\n",
            "Requirement already satisfied: tornado>=4.2 in /usr/local/lib/python3.10/dist-packages (from ipykernel>=4.5.1->ipywidgets>=7.0.0->powerbiclient) (6.2)\n",
            "Requirement already satisfied: setuptools>=18.5 in /usr/local/lib/python3.10/dist-packages (from ipython>=4.0.0->ipywidgets>=7.0.0->powerbiclient) (67.7.2)\n",
            "Requirement already satisfied: jedi>=0.16 in /usr/local/lib/python3.10/dist-packages (from ipython>=4.0.0->ipywidgets>=7.0.0->powerbiclient) (0.18.2)\n",
            "Requirement already satisfied: decorator in /usr/local/lib/python3.10/dist-packages (from ipython>=4.0.0->ipywidgets>=7.0.0->powerbiclient) (4.4.2)\n",
            "Requirement already satisfied: pickleshare in /usr/local/lib/python3.10/dist-packages (from ipython>=4.0.0->ipywidgets>=7.0.0->powerbiclient) (0.7.5)\n",
            "Requirement already satisfied: prompt-toolkit!=3.0.0,!=3.0.1,<3.1.0,>=2.0.0 in /usr/local/lib/python3.10/dist-packages (from ipython>=4.0.0->ipywidgets>=7.0.0->powerbiclient) (3.0.38)\n",
            "Requirement already satisfied: pygments in /usr/local/lib/python3.10/dist-packages (from ipython>=4.0.0->ipywidgets>=7.0.0->powerbiclient) (2.14.0)\n",
            "Requirement already satisfied: backcall in /usr/local/lib/python3.10/dist-packages (from ipython>=4.0.0->ipywidgets>=7.0.0->powerbiclient) (0.2.0)\n",
            "Requirement already satisfied: matplotlib-inline in /usr/local/lib/python3.10/dist-packages (from ipython>=4.0.0->ipywidgets>=7.0.0->powerbiclient) (0.1.6)\n",
            "Requirement already satisfied: pexpect>4.3 in /usr/local/lib/python3.10/dist-packages (from ipython>=4.0.0->ipywidgets>=7.0.0->powerbiclient) (4.8.0)\n",
            "Requirement already satisfied: six>=1.5 in /usr/local/lib/python3.10/dist-packages (from python-dateutil>=2.8.1->pandas->powerbiclient) (1.16.0)\n",
            "Requirement already satisfied: notebook>=4.4.1 in /usr/local/lib/python3.10/dist-packages (from widgetsnbextension~=3.6.0->ipywidgets>=7.0.0->powerbiclient) (6.4.8)\n",
            "Requirement already satisfied: pycparser in /usr/local/lib/python3.10/dist-packages (from cffi>=1.12->cryptography<43,>=0.6->msal>=1.8.0->powerbiclient) (2.21)\n",
            "Requirement already satisfied: parso<0.9.0,>=0.8.0 in /usr/local/lib/python3.10/dist-packages (from jedi>=0.16->ipython>=4.0.0->ipywidgets>=7.0.0->powerbiclient) (0.8.3)\n",
            "Requirement already satisfied: jinja2 in /usr/local/lib/python3.10/dist-packages (from notebook>=4.4.1->widgetsnbextension~=3.6.0->ipywidgets>=7.0.0->powerbiclient) (3.1.2)\n",
            "Requirement already satisfied: pyzmq>=17 in /usr/local/lib/python3.10/dist-packages (from notebook>=4.4.1->widgetsnbextension~=3.6.0->ipywidgets>=7.0.0->powerbiclient) (23.2.1)\n",
            "Requirement already satisfied: argon2-cffi in /usr/local/lib/python3.10/dist-packages (from notebook>=4.4.1->widgetsnbextension~=3.6.0->ipywidgets>=7.0.0->powerbiclient) (21.3.0)\n",
            "Requirement already satisfied: jupyter-core>=4.6.1 in /usr/local/lib/python3.10/dist-packages (from notebook>=4.4.1->widgetsnbextension~=3.6.0->ipywidgets>=7.0.0->powerbiclient) (5.3.0)\n",
            "Requirement already satisfied: nbformat in /usr/local/lib/python3.10/dist-packages (from notebook>=4.4.1->widgetsnbextension~=3.6.0->ipywidgets>=7.0.0->powerbiclient) (5.8.0)\n",
            "Requirement already satisfied: nbconvert in /usr/local/lib/python3.10/dist-packages (from notebook>=4.4.1->widgetsnbextension~=3.6.0->ipywidgets>=7.0.0->powerbiclient) (6.5.4)\n",
            "Requirement already satisfied: nest-asyncio>=1.5 in /usr/local/lib/python3.10/dist-packages (from notebook>=4.4.1->widgetsnbextension~=3.6.0->ipywidgets>=7.0.0->powerbiclient) (1.5.6)\n",
            "Requirement already satisfied: Send2Trash>=1.8.0 in /usr/local/lib/python3.10/dist-packages (from notebook>=4.4.1->widgetsnbextension~=3.6.0->ipywidgets>=7.0.0->powerbiclient) (1.8.0)\n",
            "Requirement already satisfied: terminado>=0.8.3 in /usr/local/lib/python3.10/dist-packages (from notebook>=4.4.1->widgetsnbextension~=3.6.0->ipywidgets>=7.0.0->powerbiclient) (0.17.1)\n",
            "Requirement already satisfied: prometheus-client in /usr/local/lib/python3.10/dist-packages (from notebook>=4.4.1->widgetsnbextension~=3.6.0->ipywidgets>=7.0.0->powerbiclient) (0.16.0)\n",
            "Requirement already satisfied: ptyprocess>=0.5 in /usr/local/lib/python3.10/dist-packages (from pexpect>4.3->ipython>=4.0.0->ipywidgets>=7.0.0->powerbiclient) (0.7.0)\n",
            "Requirement already satisfied: wcwidth in /usr/local/lib/python3.10/dist-packages (from prompt-toolkit!=3.0.0,!=3.0.1,<3.1.0,>=2.0.0->ipython>=4.0.0->ipywidgets>=7.0.0->powerbiclient) (0.2.6)\n",
            "Requirement already satisfied: platformdirs>=2.5 in /usr/local/lib/python3.10/dist-packages (from jupyter-core>=4.6.1->notebook>=4.4.1->widgetsnbextension~=3.6.0->ipywidgets>=7.0.0->powerbiclient) (3.3.0)\n",
            "Requirement already satisfied: argon2-cffi-bindings in /usr/local/lib/python3.10/dist-packages (from argon2-cffi->notebook>=4.4.1->widgetsnbextension~=3.6.0->ipywidgets>=7.0.0->powerbiclient) (21.2.0)\n",
            "Requirement already satisfied: MarkupSafe>=2.0 in /usr/local/lib/python3.10/dist-packages (from jinja2->notebook>=4.4.1->widgetsnbextension~=3.6.0->ipywidgets>=7.0.0->powerbiclient) (2.1.2)\n",
            "Requirement already satisfied: lxml in /usr/local/lib/python3.10/dist-packages (from nbconvert->notebook>=4.4.1->widgetsnbextension~=3.6.0->ipywidgets>=7.0.0->powerbiclient) (4.9.2)\n",
            "Requirement already satisfied: beautifulsoup4 in /usr/local/lib/python3.10/dist-packages (from nbconvert->notebook>=4.4.1->widgetsnbextension~=3.6.0->ipywidgets>=7.0.0->powerbiclient) (4.11.2)\n",
            "Requirement already satisfied: bleach in /usr/local/lib/python3.10/dist-packages (from nbconvert->notebook>=4.4.1->widgetsnbextension~=3.6.0->ipywidgets>=7.0.0->powerbiclient) (6.0.0)\n",
            "Requirement already satisfied: defusedxml in /usr/local/lib/python3.10/dist-packages (from nbconvert->notebook>=4.4.1->widgetsnbextension~=3.6.0->ipywidgets>=7.0.0->powerbiclient) (0.7.1)\n",
            "Requirement already satisfied: entrypoints>=0.2.2 in /usr/local/lib/python3.10/dist-packages (from nbconvert->notebook>=4.4.1->widgetsnbextension~=3.6.0->ipywidgets>=7.0.0->powerbiclient) (0.4)\n",
            "Requirement already satisfied: jupyterlab-pygments in /usr/local/lib/python3.10/dist-packages (from nbconvert->notebook>=4.4.1->widgetsnbextension~=3.6.0->ipywidgets>=7.0.0->powerbiclient) (0.2.2)\n",
            "Requirement already satisfied: mistune<2,>=0.8.1 in /usr/local/lib/python3.10/dist-packages (from nbconvert->notebook>=4.4.1->widgetsnbextension~=3.6.0->ipywidgets>=7.0.0->powerbiclient) (0.8.4)\n",
            "Requirement already satisfied: nbclient>=0.5.0 in /usr/local/lib/python3.10/dist-packages (from nbconvert->notebook>=4.4.1->widgetsnbextension~=3.6.0->ipywidgets>=7.0.0->powerbiclient) (0.7.4)\n",
            "Requirement already satisfied: packaging in /usr/local/lib/python3.10/dist-packages (from nbconvert->notebook>=4.4.1->widgetsnbextension~=3.6.0->ipywidgets>=7.0.0->powerbiclient) (23.1)\n",
            "Requirement already satisfied: pandocfilters>=1.4.1 in /usr/local/lib/python3.10/dist-packages (from nbconvert->notebook>=4.4.1->widgetsnbextension~=3.6.0->ipywidgets>=7.0.0->powerbiclient) (1.5.0)\n",
            "Requirement already satisfied: tinycss2 in /usr/local/lib/python3.10/dist-packages (from nbconvert->notebook>=4.4.1->widgetsnbextension~=3.6.0->ipywidgets>=7.0.0->powerbiclient) (1.2.1)\n",
            "Requirement already satisfied: fastjsonschema in /usr/local/lib/python3.10/dist-packages (from nbformat->notebook>=4.4.1->widgetsnbextension~=3.6.0->ipywidgets>=7.0.0->powerbiclient) (2.16.3)\n",
            "Requirement already satisfied: jsonschema>=2.6 in /usr/local/lib/python3.10/dist-packages (from nbformat->notebook>=4.4.1->widgetsnbextension~=3.6.0->ipywidgets>=7.0.0->powerbiclient) (4.3.3)\n",
            "Requirement already satisfied: attrs>=17.4.0 in /usr/local/lib/python3.10/dist-packages (from jsonschema>=2.6->nbformat->notebook>=4.4.1->widgetsnbextension~=3.6.0->ipywidgets>=7.0.0->powerbiclient) (23.1.0)\n",
            "Requirement already satisfied: pyrsistent!=0.17.0,!=0.17.1,!=0.17.2,>=0.14.0 in /usr/local/lib/python3.10/dist-packages (from jsonschema>=2.6->nbformat->notebook>=4.4.1->widgetsnbextension~=3.6.0->ipywidgets>=7.0.0->powerbiclient) (0.19.3)\n",
            "Requirement already satisfied: soupsieve>1.2 in /usr/local/lib/python3.10/dist-packages (from beautifulsoup4->nbconvert->notebook>=4.4.1->widgetsnbextension~=3.6.0->ipywidgets>=7.0.0->powerbiclient) (2.4.1)\n",
            "Requirement already satisfied: webencodings in /usr/local/lib/python3.10/dist-packages (from bleach->nbconvert->notebook>=4.4.1->widgetsnbextension~=3.6.0->ipywidgets>=7.0.0->powerbiclient) (0.5.1)\n"
          ]
        }
      ]
    },
    {
      "cell_type": "code",
      "source": [
        "from powerbiclient import Report, models\n",
        "from powerbiclient.authentication import DeviceCodeLoginAuthentication\n",
        "from google.colab import output"
      ],
      "metadata": {
        "id": "guOs6nrlss1K"
      },
      "execution_count": 21,
      "outputs": []
    },
    {
      "cell_type": "code",
      "source": [
        "# Import the DeviceCodeLoginAuthentication class to authenticate against Power BI and initiate the Micrsofot device authentication\n",
        "device_auth = DeviceCodeLoginAuthentication()"
      ],
      "metadata": {
        "id": "5TKFIiIUsuVx"
      },
      "execution_count": null,
      "outputs": []
    },
    {
      "cell_type": "code",
      "source": [
        "# Making sure we imported all required the libraries.\n",
        "from google.colab import files\n",
        "import io\n",
        "import json\n",
        "\n",
        "print(credentials)"
      ],
      "metadata": {
        "id": "5kbzNmdXaIxJ"
      },
      "execution_count": null,
      "outputs": []
    },
    {
      "cell_type": "code",
      "source": [
        "group_id=credentials[\"GROUP_ID\"] #THE POWER BI GROUP ID OR WORKSPACE ID\n",
        "report_id=credentials[\"REPORT_ID\"] #THE POWER BI REPORT ID\n",
        "\n",
        "report = Report(group_id=group_id, report_id=report_id, auth=device_auth)\n",
        "report.set_size(750, 1024)\n",
        "output.enable_custom_widget_manager()"
      ],
      "metadata": {
        "id": "P9-XmmygzG-T"
      },
      "execution_count": 24,
      "outputs": []
    },
    {
      "cell_type": "code",
      "source": [
        "# Show the power BI report.\n",
        "report"
      ],
      "metadata": {
        "colab": {
          "base_uri": "https://localhost:8080/",
          "height": 767,
          "referenced_widgets": [
            "e7d5cf21ebaf45c59f96a63d9438f24b",
            "8ab257ec7bd54b0d82e41591ad6d43a9"
          ]
        },
        "id": "MT2bFVMgy1Z3",
        "outputId": "d1519272-e82c-43ca-de40-f7fedccac2d1"
      },
      "execution_count": 25,
      "outputs": [
        {
          "output_type": "display_data",
          "data": {
            "text/plain": [
              "Report(container_height=750.0, container_width=1024.0)"
            ],
            "application/vnd.jupyter.widget-view+json": {
              "version_major": 2,
              "version_minor": 0,
              "model_id": "e7d5cf21ebaf45c59f96a63d9438f24b"
            }
          },
          "metadata": {
            "application/vnd.jupyter.widget-view+json": {
              "colab": {
                "custom_widget_manager": {
                  "url": "https://ssl.gstatic.com/colaboratory-static/widgets/colab-cdn-widget-manager/b3e629b1971e1542/manager.min.js"
                }
              }
            }
          }
        }
      ]
    },
    {
      "cell_type": "code",
      "source": [],
      "metadata": {
        "id": "Umcmss5msubY"
      },
      "execution_count": 25,
      "outputs": []
    }
  ]
}